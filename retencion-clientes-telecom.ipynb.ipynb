{
 "cells": [
  {
   "cell_type": "markdown",
   "metadata": {},
   "source": [
    "Hola **Elaine**!\n",
    "\n",
    "Soy **Patricio Requena** 👋. Es un placer ser el revisor de tu proyecto el día de hoy!\n",
    "\n",
    "Revisaré tu proyecto detenidamente con el objetivo de ayudarte a mejorar y perfeccionar tus habilidades. Durante mi revisión, identificaré áreas donde puedas hacer mejoras en tu código, señalando específicamente qué y cómo podrías ajustar para optimizar el rendimiento y la claridad de tu proyecto. Además, es importante para mí destacar los aspectos que has manejado excepcionalmente bien. Reconocer tus fortalezas te ayudará a entender qué técnicas y métodos están funcionando a tu favor y cómo puedes aplicarlos en futuras tareas. \n",
    "\n",
    "_**Recuerda que al final de este notebook encontrarás un comentario general de mi parte**_, empecemos!\n",
    "\n",
    "Encontrarás mis comentarios dentro de cajas verdes, amarillas o rojas, ⚠️ **por favor, no muevas, modifiques o borres mis comentarios** ⚠️:\n",
    "\n",
    "\n",
    "<div class=\"alert alert-block alert-success\">\n",
    "<b>Comentario del revisor</b> <a class=“tocSkip”></a>\n",
    "Si todo está perfecto.\n",
    "</div>\n",
    "\n",
    "<div class=\"alert alert-block alert-warning\">\n",
    "<b>Comentario del revisor</b> <a class=“tocSkip”></a>\n",
    "Si tu código está bien pero se puede mejorar o hay algún detalle que le hace falta.\n",
    "</div>\n",
    "\n",
    "<div class=\"alert alert-block alert-danger\">\n",
    "<b>Comentario del revisor</b> <a class=“tocSkip”></a>\n",
    "Si de pronto hace falta algo o existe algún problema con tu código o conclusiones.\n",
    "</div>\n",
    "\n",
    "Puedes responderme de esta forma:\n",
    "<div class=\"alert alert-block alert-info\">\n",
    "<b>Respuesta del estudiante</b> <a class=“tocSkip”></a>\n",
    "</div>"
   ]
  },
  {
   "cell_type": "markdown",
   "metadata": {},
   "source": [
    "##  Introduccion\n",
    "El presente proyecto tiene como objetivo principal identificar los factores que contribuyen a la cancelación de clientes en la empresa de telecomunicaciones Interconnect, con el fin de desarrollar estrategias predictivas y preventivas que permitan mejorar la retención de usuarios. Utilizando un enfoque basado en datos, se analiza un conjunto de información detallada que incluye características demográficas, tipo de contrato, métodos de pago y servicios contratados por los clientes. A través de un análisis exploratorio inicial, se busca comprender los patrones y relaciones clave que influyen en la decisión de cancelar el servicio. Posteriormente, se emplearán técnicas de aprendizaje automático para construir un modelo predictivo capaz de identificar a los clientes con mayor probabilidad de cancelar."
   ]
  },
  {
   "cell_type": "markdown",
   "metadata": {},
   "source": [
    "## Importar las librerías necesarias"
   ]
  },
  {
   "cell_type": "code",
   "execution_count": 1,
   "metadata": {},
   "outputs": [],
   "source": [
    "import pandas as pd\n",
    "import matplotlib.pyplot as plt\n",
    "import seaborn as sns\n",
    "from sklearn.model_selection import train_test_split, GridSearchCV\n",
    "from sklearn.preprocessing import StandardScaler, LabelEncoder\n",
    "from sklearn.utils.class_weight import compute_sample_weight\n",
    "from sklearn.ensemble import RandomForestClassifier, GradientBoostingClassifier\n",
    "from sklearn.metrics import classification_report, accuracy_score, precision_score, recall_score, f1_score, confusion_matrix \n",
    "from sklearn.metrics import roc_curve, roc_auc_score\n",
    "from sklearn.linear_model import LogisticRegression"
   ]
  },
  {
   "cell_type": "code",
   "execution_count": 33,
   "metadata": {},
   "outputs": [
    {
     "name": "stdout",
     "output_type": "stream",
     "text": [
      "Versiones de las librerías:\n",
      "Pandas: 1.2.4\n",
      "Matplotlib: 3.3.4\n",
      "Seaborn: 0.11.1\n",
      "Scikit-learn: 0.24.1\n"
     ]
    }
   ],
   "source": [
    "# Control de versiones\n",
    "import pandas as pd\n",
    "import matplotlib\n",
    "import seaborn as sns\n",
    "import sklearn\n",
    "\n",
    "print(\"Versiones de las librerías:\")\n",
    "print(f\"Pandas: {pd.__version__}\")\n",
    "print(f\"Matplotlib: {matplotlib.__version__}\")\n",
    "print(f\"Seaborn: {sns.__version__}\")\n",
    "print(f\"Scikit-learn: {sklearn.__version__}\")"
   ]
  },
  {
   "cell_type": "markdown",
   "metadata": {},
   "source": [
    "## Exploración inicial de los datos"
   ]
  },
  {
   "cell_type": "code",
   "execution_count": 2,
   "metadata": {},
   "outputs": [],
   "source": [
    "# Rutas de los archivos en la plataforma\n",
    "personal_path = \"/datasets/final_provider/personal.csv\"\n",
    "contract_path = \"/datasets/final_provider/contract.csv\"\n",
    "phone_path = \"/datasets/final_provider/phone.csv\"\n",
    "internet_path = \"/datasets/final_provider/internet.csv\"\n",
    "\n",
    "# Leer los datos\n",
    "personal_df = pd.read_csv(personal_path)\n",
    "contract_df = pd.read_csv(contract_path)\n",
    "phone_df = pd.read_csv(phone_path)\n",
    "internet_df = pd.read_csv(internet_path)"
   ]
  },
  {
   "cell_type": "code",
   "execution_count": 3,
   "metadata": {},
   "outputs": [
    {
     "name": "stdout",
     "output_type": "stream",
     "text": [
      "Initial Data Quality Report:\n"
     ]
    },
    {
     "data": {
      "text/html": [
       "<div>\n",
       "<style scoped>\n",
       "    .dataframe tbody tr th:only-of-type {\n",
       "        vertical-align: middle;\n",
       "    }\n",
       "\n",
       "    .dataframe tbody tr th {\n",
       "        vertical-align: top;\n",
       "    }\n",
       "\n",
       "    .dataframe thead th {\n",
       "        text-align: right;\n",
       "    }\n",
       "</style>\n",
       "<table border=\"1\" class=\"dataframe\">\n",
       "  <thead>\n",
       "    <tr style=\"text-align: right;\">\n",
       "      <th></th>\n",
       "      <th>Dataset</th>\n",
       "      <th>Null Values</th>\n",
       "      <th>Unique Values</th>\n",
       "    </tr>\n",
       "  </thead>\n",
       "  <tbody>\n",
       "    <tr>\n",
       "      <th>0</th>\n",
       "      <td>personal</td>\n",
       "      <td>0</td>\n",
       "      <td>{'customerID': 7043, 'gender': 2, 'SeniorCitiz...</td>\n",
       "    </tr>\n",
       "    <tr>\n",
       "      <th>1</th>\n",
       "      <td>contract</td>\n",
       "      <td>0</td>\n",
       "      <td>{'customerID': 7043, 'BeginDate': 77, 'EndDate...</td>\n",
       "    </tr>\n",
       "    <tr>\n",
       "      <th>2</th>\n",
       "      <td>phone</td>\n",
       "      <td>0</td>\n",
       "      <td>{'customerID': 6361, 'MultipleLines': 2}</td>\n",
       "    </tr>\n",
       "    <tr>\n",
       "      <th>3</th>\n",
       "      <td>internet</td>\n",
       "      <td>0</td>\n",
       "      <td>{'customerID': 5517, 'InternetService': 2, 'On...</td>\n",
       "    </tr>\n",
       "  </tbody>\n",
       "</table>\n",
       "</div>"
      ],
      "text/plain": [
       "    Dataset  Null Values                                      Unique Values\n",
       "0  personal            0  {'customerID': 7043, 'gender': 2, 'SeniorCitiz...\n",
       "1  contract            0  {'customerID': 7043, 'BeginDate': 77, 'EndDate...\n",
       "2     phone            0           {'customerID': 6361, 'MultipleLines': 2}\n",
       "3  internet            0  {'customerID': 5517, 'InternetService': 2, 'On..."
      ]
     },
     "execution_count": 3,
     "metadata": {},
     "output_type": "execute_result"
    }
   ],
   "source": [
    "# Verificar valores nulos y estructura general de los datos\n",
    "personal_nulls = personal_df.isnull().sum()\n",
    "contract_nulls = contract_df.isnull().sum()\n",
    "phone_nulls = phone_df.isnull().sum()\n",
    "internet_nulls = internet_df.isnull().sum()\n",
    "\n",
    "# Resumen de valores únicos para identificar posibles inconsistencias\n",
    "personal_unique = personal_df.nunique()\n",
    "contract_unique = contract_df.nunique()\n",
    "phone_unique = phone_df.nunique()\n",
    "internet_unique = internet_df.nunique()\n",
    "\n",
    "# Generar un reporte inicial\n",
    "report = {\n",
    "    \"Dataset\": [\"personal\", \"contract\", \"phone\", \"internet\"],\n",
    "    \"Null Values\": [\n",
    "        personal_nulls.sum(),\n",
    "        contract_nulls.sum(),\n",
    "        phone_nulls.sum(),\n",
    "        internet_nulls.sum(),],\n",
    "    \"Unique Values\": [\n",
    "        personal_unique.to_dict(),\n",
    "        contract_unique.to_dict(),\n",
    "        phone_unique.to_dict(),\n",
    "        internet_unique.to_dict(),],}\n",
    "\n",
    "# Crear un DataFrame del reporte\n",
    "report_df = pd.DataFrame(report)\n",
    "\n",
    "# Mostrar el reporte\n",
    "print(\"Initial Data Quality Report:\")\n",
    "report_df"
   ]
  },
  {
   "cell_type": "markdown",
   "metadata": {},
   "source": [
    "He generado un reporte inicial sobre la calidad de los datos para los cuatro conjuntos proporcionados. Esto incluye valores nulos y un resumen de las variables únicas para identificar inconsistencias."
   ]
  },
  {
   "cell_type": "code",
   "execution_count": 4,
   "metadata": {},
   "outputs": [
    {
     "name": "stdout",
     "output_type": "stream",
     "text": [
      "--- Dataset: Personal ---\n",
      "Valores nulos por columna:\n",
      "customerID       0\n",
      "gender           0\n",
      "SeniorCitizen    0\n",
      "Partner          0\n",
      "Dependents       0\n",
      "dtype: int64\n",
      "\n",
      "--- Valores únicos por columna ---\n",
      "customerID       7043\n",
      "gender              2\n",
      "SeniorCitizen       2\n",
      "Partner             2\n",
      "Dependents          2\n",
      "dtype: int64\n",
      "\n",
      "Primeras filas del dataset:\n",
      "   customerID  gender  SeniorCitizen Partner Dependents\n",
      "0  7590-VHVEG  Female              0     Yes         No\n",
      "1  5575-GNVDE    Male              0      No         No\n",
      "2  3668-QPYBK    Male              0      No         No\n",
      "3  7795-CFOCW    Male              0      No         No\n",
      "4  9237-HQITU  Female              0      No         No\n",
      "\n",
      "\n"
     ]
    }
   ],
   "source": [
    "# Limpieza de los datos\n",
    "def data_cleaning(df, dataset_name):\n",
    "    print(f\"--- Dataset: {dataset_name} ---\")\n",
    "    # Valores nulos\n",
    "    print(\"Valores nulos por columna:\")\n",
    "    print(df.isnull().sum())\n",
    "    print(\"\\n--- Valores únicos por columna ---\")\n",
    "    print(df.nunique())\n",
    "    print(\"\\nPrimeras filas del dataset:\")\n",
    "    print(df.head())\n",
    "    print(\"\\n\")\n",
    "\n",
    "# Aplicar la limpieza a cada dataset\n",
    "data_cleaning(personal_df, \"Personal\")"
   ]
  },
  {
   "cell_type": "code",
   "execution_count": 5,
   "metadata": {},
   "outputs": [
    {
     "name": "stdout",
     "output_type": "stream",
     "text": [
      "--- Dataset: Contract ---\n",
      "Valores nulos por columna:\n",
      "customerID          0\n",
      "BeginDate           0\n",
      "EndDate             0\n",
      "Type                0\n",
      "PaperlessBilling    0\n",
      "PaymentMethod       0\n",
      "MonthlyCharges      0\n",
      "TotalCharges        0\n",
      "dtype: int64\n",
      "\n",
      "--- Valores únicos por columna ---\n",
      "customerID          7043\n",
      "BeginDate             77\n",
      "EndDate                5\n",
      "Type                   3\n",
      "PaperlessBilling       2\n",
      "PaymentMethod          4\n",
      "MonthlyCharges      1585\n",
      "TotalCharges        6531\n",
      "dtype: int64\n",
      "\n",
      "Primeras filas del dataset:\n",
      "   customerID   BeginDate              EndDate            Type  \\\n",
      "0  7590-VHVEG  2020-01-01                   No  Month-to-month   \n",
      "1  5575-GNVDE  2017-04-01                   No        One year   \n",
      "2  3668-QPYBK  2019-10-01  2019-12-01 00:00:00  Month-to-month   \n",
      "3  7795-CFOCW  2016-05-01                   No        One year   \n",
      "4  9237-HQITU  2019-09-01  2019-11-01 00:00:00  Month-to-month   \n",
      "\n",
      "  PaperlessBilling              PaymentMethod  MonthlyCharges TotalCharges  \n",
      "0              Yes           Electronic check           29.85        29.85  \n",
      "1               No               Mailed check           56.95       1889.5  \n",
      "2              Yes               Mailed check           53.85       108.15  \n",
      "3               No  Bank transfer (automatic)           42.30      1840.75  \n",
      "4              Yes           Electronic check           70.70       151.65  \n",
      "\n",
      "\n"
     ]
    }
   ],
   "source": [
    "data_cleaning(contract_df, \"Contract\")"
   ]
  },
  {
   "cell_type": "code",
   "execution_count": 6,
   "metadata": {},
   "outputs": [
    {
     "name": "stdout",
     "output_type": "stream",
     "text": [
      "--- Dataset: Phone ---\n",
      "Valores nulos por columna:\n",
      "customerID       0\n",
      "MultipleLines    0\n",
      "dtype: int64\n",
      "\n",
      "--- Valores únicos por columna ---\n",
      "customerID       6361\n",
      "MultipleLines       2\n",
      "dtype: int64\n",
      "\n",
      "Primeras filas del dataset:\n",
      "   customerID MultipleLines\n",
      "0  5575-GNVDE            No\n",
      "1  3668-QPYBK            No\n",
      "2  9237-HQITU            No\n",
      "3  9305-CDSKC           Yes\n",
      "4  1452-KIOVK           Yes\n",
      "\n",
      "\n"
     ]
    }
   ],
   "source": [
    "data_cleaning(phone_df, \"Phone\")"
   ]
  },
  {
   "cell_type": "code",
   "execution_count": 7,
   "metadata": {},
   "outputs": [
    {
     "name": "stdout",
     "output_type": "stream",
     "text": [
      "--- Dataset: Internet ---\n",
      "Valores nulos por columna:\n",
      "customerID          0\n",
      "InternetService     0\n",
      "OnlineSecurity      0\n",
      "OnlineBackup        0\n",
      "DeviceProtection    0\n",
      "TechSupport         0\n",
      "StreamingTV         0\n",
      "StreamingMovies     0\n",
      "dtype: int64\n",
      "\n",
      "--- Valores únicos por columna ---\n",
      "customerID          5517\n",
      "InternetService        2\n",
      "OnlineSecurity         2\n",
      "OnlineBackup           2\n",
      "DeviceProtection       2\n",
      "TechSupport            2\n",
      "StreamingTV            2\n",
      "StreamingMovies        2\n",
      "dtype: int64\n",
      "\n",
      "Primeras filas del dataset:\n",
      "   customerID InternetService OnlineSecurity OnlineBackup DeviceProtection  \\\n",
      "0  7590-VHVEG             DSL             No          Yes               No   \n",
      "1  5575-GNVDE             DSL            Yes           No              Yes   \n",
      "2  3668-QPYBK             DSL            Yes          Yes               No   \n",
      "3  7795-CFOCW             DSL            Yes           No              Yes   \n",
      "4  9237-HQITU     Fiber optic             No           No               No   \n",
      "\n",
      "  TechSupport StreamingTV StreamingMovies  \n",
      "0          No          No              No  \n",
      "1          No          No              No  \n",
      "2          No          No              No  \n",
      "3         Yes          No              No  \n",
      "4          No          No              No  \n",
      "\n",
      "\n"
     ]
    }
   ],
   "source": [
    "data_cleaning(internet_df, \"Internet\")"
   ]
  },
  {
   "cell_type": "code",
   "execution_count": 8,
   "metadata": {},
   "outputs": [],
   "source": [
    "# Unificar los datos usando la columna customerID\n",
    "merged_df = personal_df.merge(contract_df, on=\"customerID\", how=\"inner\")\n",
    "merged_df = merged_df.merge(phone_df, on=\"customerID\", how=\"left\")\n",
    "merged_df = merged_df.merge(internet_df, on=\"customerID\", how=\"left\")"
   ]
  },
  {
   "cell_type": "code",
   "execution_count": 9,
   "metadata": {},
   "outputs": [
    {
     "name": "stdout",
     "output_type": "stream",
     "text": [
      "Dataset Consolidado:\n",
      "<class 'pandas.core.frame.DataFrame'>\n",
      "Int64Index: 7043 entries, 0 to 7042\n",
      "Data columns (total 20 columns):\n",
      " #   Column            Non-Null Count  Dtype  \n",
      "---  ------            --------------  -----  \n",
      " 0   customerID        7043 non-null   object \n",
      " 1   gender            7043 non-null   object \n",
      " 2   SeniorCitizen     7043 non-null   int64  \n",
      " 3   Partner           7043 non-null   object \n",
      " 4   Dependents        7043 non-null   object \n",
      " 5   BeginDate         7043 non-null   object \n",
      " 6   EndDate           7043 non-null   object \n",
      " 7   Type              7043 non-null   object \n",
      " 8   PaperlessBilling  7043 non-null   object \n",
      " 9   PaymentMethod     7043 non-null   object \n",
      " 10  MonthlyCharges    7043 non-null   float64\n",
      " 11  TotalCharges      7043 non-null   object \n",
      " 12  MultipleLines     6361 non-null   object \n",
      " 13  InternetService   5517 non-null   object \n",
      " 14  OnlineSecurity    5517 non-null   object \n",
      " 15  OnlineBackup      5517 non-null   object \n",
      " 16  DeviceProtection  5517 non-null   object \n",
      " 17  TechSupport       5517 non-null   object \n",
      " 18  StreamingTV       5517 non-null   object \n",
      " 19  StreamingMovies   5517 non-null   object \n",
      "dtypes: float64(1), int64(1), object(18)\n",
      "memory usage: 1.1+ MB\n"
     ]
    }
   ],
   "source": [
    "# Resumen del conjunto de datos consolidado\n",
    "print(\"Dataset Consolidado:\")\n",
    "merged_df.info()"
   ]
  },
  {
   "cell_type": "code",
   "execution_count": 10,
   "metadata": {},
   "outputs": [
    {
     "data": {
      "text/html": [
       "<div>\n",
       "<style scoped>\n",
       "    .dataframe tbody tr th:only-of-type {\n",
       "        vertical-align: middle;\n",
       "    }\n",
       "\n",
       "    .dataframe tbody tr th {\n",
       "        vertical-align: top;\n",
       "    }\n",
       "\n",
       "    .dataframe thead th {\n",
       "        text-align: right;\n",
       "    }\n",
       "</style>\n",
       "<table border=\"1\" class=\"dataframe\">\n",
       "  <thead>\n",
       "    <tr style=\"text-align: right;\">\n",
       "      <th></th>\n",
       "      <th>customerID</th>\n",
       "      <th>gender</th>\n",
       "      <th>SeniorCitizen</th>\n",
       "      <th>Partner</th>\n",
       "      <th>Dependents</th>\n",
       "      <th>BeginDate</th>\n",
       "      <th>EndDate</th>\n",
       "      <th>Type</th>\n",
       "      <th>PaperlessBilling</th>\n",
       "      <th>PaymentMethod</th>\n",
       "      <th>MonthlyCharges</th>\n",
       "      <th>TotalCharges</th>\n",
       "      <th>MultipleLines</th>\n",
       "      <th>InternetService</th>\n",
       "      <th>OnlineSecurity</th>\n",
       "      <th>OnlineBackup</th>\n",
       "      <th>DeviceProtection</th>\n",
       "      <th>TechSupport</th>\n",
       "      <th>StreamingTV</th>\n",
       "      <th>StreamingMovies</th>\n",
       "    </tr>\n",
       "  </thead>\n",
       "  <tbody>\n",
       "    <tr>\n",
       "      <th>0</th>\n",
       "      <td>7590-VHVEG</td>\n",
       "      <td>Female</td>\n",
       "      <td>0</td>\n",
       "      <td>Yes</td>\n",
       "      <td>No</td>\n",
       "      <td>2020-01-01</td>\n",
       "      <td>No</td>\n",
       "      <td>Month-to-month</td>\n",
       "      <td>Yes</td>\n",
       "      <td>Electronic check</td>\n",
       "      <td>29.85</td>\n",
       "      <td>29.85</td>\n",
       "      <td>NaN</td>\n",
       "      <td>DSL</td>\n",
       "      <td>No</td>\n",
       "      <td>Yes</td>\n",
       "      <td>No</td>\n",
       "      <td>No</td>\n",
       "      <td>No</td>\n",
       "      <td>No</td>\n",
       "    </tr>\n",
       "    <tr>\n",
       "      <th>1</th>\n",
       "      <td>5575-GNVDE</td>\n",
       "      <td>Male</td>\n",
       "      <td>0</td>\n",
       "      <td>No</td>\n",
       "      <td>No</td>\n",
       "      <td>2017-04-01</td>\n",
       "      <td>No</td>\n",
       "      <td>One year</td>\n",
       "      <td>No</td>\n",
       "      <td>Mailed check</td>\n",
       "      <td>56.95</td>\n",
       "      <td>1889.5</td>\n",
       "      <td>No</td>\n",
       "      <td>DSL</td>\n",
       "      <td>Yes</td>\n",
       "      <td>No</td>\n",
       "      <td>Yes</td>\n",
       "      <td>No</td>\n",
       "      <td>No</td>\n",
       "      <td>No</td>\n",
       "    </tr>\n",
       "    <tr>\n",
       "      <th>2</th>\n",
       "      <td>3668-QPYBK</td>\n",
       "      <td>Male</td>\n",
       "      <td>0</td>\n",
       "      <td>No</td>\n",
       "      <td>No</td>\n",
       "      <td>2019-10-01</td>\n",
       "      <td>2019-12-01 00:00:00</td>\n",
       "      <td>Month-to-month</td>\n",
       "      <td>Yes</td>\n",
       "      <td>Mailed check</td>\n",
       "      <td>53.85</td>\n",
       "      <td>108.15</td>\n",
       "      <td>No</td>\n",
       "      <td>DSL</td>\n",
       "      <td>Yes</td>\n",
       "      <td>Yes</td>\n",
       "      <td>No</td>\n",
       "      <td>No</td>\n",
       "      <td>No</td>\n",
       "      <td>No</td>\n",
       "    </tr>\n",
       "    <tr>\n",
       "      <th>3</th>\n",
       "      <td>7795-CFOCW</td>\n",
       "      <td>Male</td>\n",
       "      <td>0</td>\n",
       "      <td>No</td>\n",
       "      <td>No</td>\n",
       "      <td>2016-05-01</td>\n",
       "      <td>No</td>\n",
       "      <td>One year</td>\n",
       "      <td>No</td>\n",
       "      <td>Bank transfer (automatic)</td>\n",
       "      <td>42.30</td>\n",
       "      <td>1840.75</td>\n",
       "      <td>NaN</td>\n",
       "      <td>DSL</td>\n",
       "      <td>Yes</td>\n",
       "      <td>No</td>\n",
       "      <td>Yes</td>\n",
       "      <td>Yes</td>\n",
       "      <td>No</td>\n",
       "      <td>No</td>\n",
       "    </tr>\n",
       "    <tr>\n",
       "      <th>4</th>\n",
       "      <td>9237-HQITU</td>\n",
       "      <td>Female</td>\n",
       "      <td>0</td>\n",
       "      <td>No</td>\n",
       "      <td>No</td>\n",
       "      <td>2019-09-01</td>\n",
       "      <td>2019-11-01 00:00:00</td>\n",
       "      <td>Month-to-month</td>\n",
       "      <td>Yes</td>\n",
       "      <td>Electronic check</td>\n",
       "      <td>70.70</td>\n",
       "      <td>151.65</td>\n",
       "      <td>No</td>\n",
       "      <td>Fiber optic</td>\n",
       "      <td>No</td>\n",
       "      <td>No</td>\n",
       "      <td>No</td>\n",
       "      <td>No</td>\n",
       "      <td>No</td>\n",
       "      <td>No</td>\n",
       "    </tr>\n",
       "  </tbody>\n",
       "</table>\n",
       "</div>"
      ],
      "text/plain": [
       "   customerID  gender  SeniorCitizen Partner Dependents   BeginDate  \\\n",
       "0  7590-VHVEG  Female              0     Yes         No  2020-01-01   \n",
       "1  5575-GNVDE    Male              0      No         No  2017-04-01   \n",
       "2  3668-QPYBK    Male              0      No         No  2019-10-01   \n",
       "3  7795-CFOCW    Male              0      No         No  2016-05-01   \n",
       "4  9237-HQITU  Female              0      No         No  2019-09-01   \n",
       "\n",
       "               EndDate            Type PaperlessBilling  \\\n",
       "0                   No  Month-to-month              Yes   \n",
       "1                   No        One year               No   \n",
       "2  2019-12-01 00:00:00  Month-to-month              Yes   \n",
       "3                   No        One year               No   \n",
       "4  2019-11-01 00:00:00  Month-to-month              Yes   \n",
       "\n",
       "               PaymentMethod  MonthlyCharges TotalCharges MultipleLines  \\\n",
       "0           Electronic check           29.85        29.85           NaN   \n",
       "1               Mailed check           56.95       1889.5            No   \n",
       "2               Mailed check           53.85       108.15            No   \n",
       "3  Bank transfer (automatic)           42.30      1840.75           NaN   \n",
       "4           Electronic check           70.70       151.65            No   \n",
       "\n",
       "  InternetService OnlineSecurity OnlineBackup DeviceProtection TechSupport  \\\n",
       "0             DSL             No          Yes               No          No   \n",
       "1             DSL            Yes           No              Yes          No   \n",
       "2             DSL            Yes          Yes               No          No   \n",
       "3             DSL            Yes           No              Yes         Yes   \n",
       "4     Fiber optic             No           No               No          No   \n",
       "\n",
       "  StreamingTV StreamingMovies  \n",
       "0          No              No  \n",
       "1          No              No  \n",
       "2          No              No  \n",
       "3          No              No  \n",
       "4          No              No  "
      ]
     },
     "execution_count": 10,
     "metadata": {},
     "output_type": "execute_result"
    }
   ],
   "source": [
    "merged_df.head()"
   ]
  },
  {
   "cell_type": "markdown",
   "metadata": {},
   "source": [
    "<div class=\"alert alert-block alert-danger\">\n",
    "<b>Comentario del revisor (1ra Iteracion)</b> <a class=“tocSkip”></a>\n",
    "\n",
    "Buen avance con la exploración inicial de los datos a utilizar, sin embargo, la limpieza no se ha llevado a cabo correctamente. Si revisas sigues teniendo valores nulos o ausentes, deberías manejarlos o explicar el porque es mejor dejarlos cómo nulos\n",
    "</div>"
   ]
  },
  {
   "cell_type": "markdown",
   "metadata": {},
   "source": [
    "Hasta aqui se ha ralizado una inspección individual de cada dataset, Verificando valores nulos, valores únicos, y una muestra inicial de datos. Unificación: Se han combinado todos los datasets en uno solo consolidado, usando customerID como clave principal y se ha realizado un resumen del mismo."
   ]
  },
  {
   "cell_type": "code",
   "execution_count": 11,
   "metadata": {},
   "outputs": [
    {
     "data": {
      "text/html": [
       "<div>\n",
       "<style scoped>\n",
       "    .dataframe tbody tr th:only-of-type {\n",
       "        vertical-align: middle;\n",
       "    }\n",
       "\n",
       "    .dataframe tbody tr th {\n",
       "        vertical-align: top;\n",
       "    }\n",
       "\n",
       "    .dataframe thead th {\n",
       "        text-align: right;\n",
       "    }\n",
       "</style>\n",
       "<table border=\"1\" class=\"dataframe\">\n",
       "  <thead>\n",
       "    <tr style=\"text-align: right;\">\n",
       "      <th></th>\n",
       "      <th>customerID</th>\n",
       "      <th>gender</th>\n",
       "      <th>SeniorCitizen</th>\n",
       "      <th>Partner</th>\n",
       "      <th>Dependents</th>\n",
       "      <th>BeginDate</th>\n",
       "      <th>EndDate</th>\n",
       "      <th>Type</th>\n",
       "      <th>PaperlessBilling</th>\n",
       "      <th>PaymentMethod</th>\n",
       "      <th>...</th>\n",
       "      <th>TotalCharges</th>\n",
       "      <th>MultipleLines</th>\n",
       "      <th>InternetService</th>\n",
       "      <th>OnlineSecurity</th>\n",
       "      <th>OnlineBackup</th>\n",
       "      <th>DeviceProtection</th>\n",
       "      <th>TechSupport</th>\n",
       "      <th>StreamingTV</th>\n",
       "      <th>StreamingMovies</th>\n",
       "      <th>Churn</th>\n",
       "    </tr>\n",
       "  </thead>\n",
       "  <tbody>\n",
       "    <tr>\n",
       "      <th>0</th>\n",
       "      <td>7590-VHVEG</td>\n",
       "      <td>Female</td>\n",
       "      <td>0</td>\n",
       "      <td>Yes</td>\n",
       "      <td>No</td>\n",
       "      <td>2020-01-01</td>\n",
       "      <td>No</td>\n",
       "      <td>Month-to-month</td>\n",
       "      <td>Yes</td>\n",
       "      <td>Electronic check</td>\n",
       "      <td>...</td>\n",
       "      <td>29.85</td>\n",
       "      <td>NaN</td>\n",
       "      <td>DSL</td>\n",
       "      <td>No</td>\n",
       "      <td>Yes</td>\n",
       "      <td>No</td>\n",
       "      <td>No</td>\n",
       "      <td>No</td>\n",
       "      <td>No</td>\n",
       "      <td>0</td>\n",
       "    </tr>\n",
       "    <tr>\n",
       "      <th>1</th>\n",
       "      <td>5575-GNVDE</td>\n",
       "      <td>Male</td>\n",
       "      <td>0</td>\n",
       "      <td>No</td>\n",
       "      <td>No</td>\n",
       "      <td>2017-04-01</td>\n",
       "      <td>No</td>\n",
       "      <td>One year</td>\n",
       "      <td>No</td>\n",
       "      <td>Mailed check</td>\n",
       "      <td>...</td>\n",
       "      <td>1889.5</td>\n",
       "      <td>No</td>\n",
       "      <td>DSL</td>\n",
       "      <td>Yes</td>\n",
       "      <td>No</td>\n",
       "      <td>Yes</td>\n",
       "      <td>No</td>\n",
       "      <td>No</td>\n",
       "      <td>No</td>\n",
       "      <td>0</td>\n",
       "    </tr>\n",
       "    <tr>\n",
       "      <th>2</th>\n",
       "      <td>3668-QPYBK</td>\n",
       "      <td>Male</td>\n",
       "      <td>0</td>\n",
       "      <td>No</td>\n",
       "      <td>No</td>\n",
       "      <td>2019-10-01</td>\n",
       "      <td>2019-12-01 00:00:00</td>\n",
       "      <td>Month-to-month</td>\n",
       "      <td>Yes</td>\n",
       "      <td>Mailed check</td>\n",
       "      <td>...</td>\n",
       "      <td>108.15</td>\n",
       "      <td>No</td>\n",
       "      <td>DSL</td>\n",
       "      <td>Yes</td>\n",
       "      <td>Yes</td>\n",
       "      <td>No</td>\n",
       "      <td>No</td>\n",
       "      <td>No</td>\n",
       "      <td>No</td>\n",
       "      <td>1</td>\n",
       "    </tr>\n",
       "    <tr>\n",
       "      <th>3</th>\n",
       "      <td>7795-CFOCW</td>\n",
       "      <td>Male</td>\n",
       "      <td>0</td>\n",
       "      <td>No</td>\n",
       "      <td>No</td>\n",
       "      <td>2016-05-01</td>\n",
       "      <td>No</td>\n",
       "      <td>One year</td>\n",
       "      <td>No</td>\n",
       "      <td>Bank transfer (automatic)</td>\n",
       "      <td>...</td>\n",
       "      <td>1840.75</td>\n",
       "      <td>NaN</td>\n",
       "      <td>DSL</td>\n",
       "      <td>Yes</td>\n",
       "      <td>No</td>\n",
       "      <td>Yes</td>\n",
       "      <td>Yes</td>\n",
       "      <td>No</td>\n",
       "      <td>No</td>\n",
       "      <td>0</td>\n",
       "    </tr>\n",
       "    <tr>\n",
       "      <th>4</th>\n",
       "      <td>9237-HQITU</td>\n",
       "      <td>Female</td>\n",
       "      <td>0</td>\n",
       "      <td>No</td>\n",
       "      <td>No</td>\n",
       "      <td>2019-09-01</td>\n",
       "      <td>2019-11-01 00:00:00</td>\n",
       "      <td>Month-to-month</td>\n",
       "      <td>Yes</td>\n",
       "      <td>Electronic check</td>\n",
       "      <td>...</td>\n",
       "      <td>151.65</td>\n",
       "      <td>No</td>\n",
       "      <td>Fiber optic</td>\n",
       "      <td>No</td>\n",
       "      <td>No</td>\n",
       "      <td>No</td>\n",
       "      <td>No</td>\n",
       "      <td>No</td>\n",
       "      <td>No</td>\n",
       "      <td>1</td>\n",
       "    </tr>\n",
       "  </tbody>\n",
       "</table>\n",
       "<p>5 rows × 21 columns</p>\n",
       "</div>"
      ],
      "text/plain": [
       "   customerID  gender  SeniorCitizen Partner Dependents   BeginDate  \\\n",
       "0  7590-VHVEG  Female              0     Yes         No  2020-01-01   \n",
       "1  5575-GNVDE    Male              0      No         No  2017-04-01   \n",
       "2  3668-QPYBK    Male              0      No         No  2019-10-01   \n",
       "3  7795-CFOCW    Male              0      No         No  2016-05-01   \n",
       "4  9237-HQITU  Female              0      No         No  2019-09-01   \n",
       "\n",
       "               EndDate            Type PaperlessBilling  \\\n",
       "0                   No  Month-to-month              Yes   \n",
       "1                   No        One year               No   \n",
       "2  2019-12-01 00:00:00  Month-to-month              Yes   \n",
       "3                   No        One year               No   \n",
       "4  2019-11-01 00:00:00  Month-to-month              Yes   \n",
       "\n",
       "               PaymentMethod  ...  TotalCharges MultipleLines InternetService  \\\n",
       "0           Electronic check  ...         29.85           NaN             DSL   \n",
       "1               Mailed check  ...        1889.5            No             DSL   \n",
       "2               Mailed check  ...        108.15            No             DSL   \n",
       "3  Bank transfer (automatic)  ...       1840.75           NaN             DSL   \n",
       "4           Electronic check  ...        151.65            No     Fiber optic   \n",
       "\n",
       "  OnlineSecurity OnlineBackup DeviceProtection TechSupport StreamingTV  \\\n",
       "0             No          Yes               No          No          No   \n",
       "1            Yes           No              Yes          No          No   \n",
       "2            Yes          Yes               No          No          No   \n",
       "3            Yes           No              Yes         Yes          No   \n",
       "4             No           No               No          No          No   \n",
       "\n",
       "  StreamingMovies Churn  \n",
       "0              No     0  \n",
       "1              No     0  \n",
       "2              No     1  \n",
       "3              No     0  \n",
       "4              No     1  \n",
       "\n",
       "[5 rows x 21 columns]"
      ]
     },
     "execution_count": 11,
     "metadata": {},
     "output_type": "execute_result"
    }
   ],
   "source": [
    "# Crear una columna 'Churn' basada en 'EndDate'\n",
    "merged_df['Churn'] = merged_df['EndDate'].apply(lambda x: 1 if x != \"No\" else 0)\n",
    "\n",
    "merged_df.head()"
   ]
  },
  {
   "cell_type": "markdown",
   "metadata": {},
   "source": [
    "Creamos la columna Churn que asigna 1 a los clientes que cancelaron y 0 a los que no."
   ]
  },
  {
   "cell_type": "code",
   "execution_count": 12,
   "metadata": {},
   "outputs": [
    {
     "name": "stdout",
     "output_type": "stream",
     "text": [
      "Distribución de Churn (Cancelación):\n",
      "0    5174\n",
      "1    1869\n",
      "Name: Churn, dtype: int64\n"
     ]
    }
   ],
   "source": [
    "# Verificar la distribución de la columna Churn\n",
    "print(\"Distribución de Churn (Cancelación):\")\n",
    "print(merged_df['Churn'].value_counts())"
   ]
  },
  {
   "cell_type": "markdown",
   "metadata": {},
   "source": [
    "<div class=\"alert alert-block alert-success\">\n",
    "<b>Comentario del revisor (1ra Iteracion)</b> <a class=“tocSkip”></a>\n",
    "\n",
    "Perfecto! Siempre hay que revisar el balance de los datos para saber si se debe aplicar alguna técnica para manejarlo\n",
    "    \n",
    "</div>"
   ]
  },
  {
   "cell_type": "markdown",
   "metadata": {},
   "source": [
    "## 2  Análisis Exploratorio de Datos (EDA)"
   ]
  },
  {
   "cell_type": "code",
   "execution_count": 13,
   "metadata": {},
   "outputs": [
    {
     "name": "stdout",
     "output_type": "stream",
     "text": [
      "Resumen Estadístico General:\n"
     ]
    },
    {
     "data": {
      "text/html": [
       "<div>\n",
       "<style scoped>\n",
       "    .dataframe tbody tr th:only-of-type {\n",
       "        vertical-align: middle;\n",
       "    }\n",
       "\n",
       "    .dataframe tbody tr th {\n",
       "        vertical-align: top;\n",
       "    }\n",
       "\n",
       "    .dataframe thead th {\n",
       "        text-align: right;\n",
       "    }\n",
       "</style>\n",
       "<table border=\"1\" class=\"dataframe\">\n",
       "  <thead>\n",
       "    <tr style=\"text-align: right;\">\n",
       "      <th></th>\n",
       "      <th>SeniorCitizen</th>\n",
       "      <th>MonthlyCharges</th>\n",
       "      <th>Churn</th>\n",
       "    </tr>\n",
       "  </thead>\n",
       "  <tbody>\n",
       "    <tr>\n",
       "      <th>count</th>\n",
       "      <td>7043.000000</td>\n",
       "      <td>7043.000000</td>\n",
       "      <td>7043.000000</td>\n",
       "    </tr>\n",
       "    <tr>\n",
       "      <th>mean</th>\n",
       "      <td>0.162147</td>\n",
       "      <td>64.761692</td>\n",
       "      <td>0.265370</td>\n",
       "    </tr>\n",
       "    <tr>\n",
       "      <th>std</th>\n",
       "      <td>0.368612</td>\n",
       "      <td>30.090047</td>\n",
       "      <td>0.441561</td>\n",
       "    </tr>\n",
       "    <tr>\n",
       "      <th>min</th>\n",
       "      <td>0.000000</td>\n",
       "      <td>18.250000</td>\n",
       "      <td>0.000000</td>\n",
       "    </tr>\n",
       "    <tr>\n",
       "      <th>25%</th>\n",
       "      <td>0.000000</td>\n",
       "      <td>35.500000</td>\n",
       "      <td>0.000000</td>\n",
       "    </tr>\n",
       "    <tr>\n",
       "      <th>50%</th>\n",
       "      <td>0.000000</td>\n",
       "      <td>70.350000</td>\n",
       "      <td>0.000000</td>\n",
       "    </tr>\n",
       "    <tr>\n",
       "      <th>75%</th>\n",
       "      <td>0.000000</td>\n",
       "      <td>89.850000</td>\n",
       "      <td>1.000000</td>\n",
       "    </tr>\n",
       "    <tr>\n",
       "      <th>max</th>\n",
       "      <td>1.000000</td>\n",
       "      <td>118.750000</td>\n",
       "      <td>1.000000</td>\n",
       "    </tr>\n",
       "  </tbody>\n",
       "</table>\n",
       "</div>"
      ],
      "text/plain": [
       "       SeniorCitizen  MonthlyCharges        Churn\n",
       "count    7043.000000     7043.000000  7043.000000\n",
       "mean        0.162147       64.761692     0.265370\n",
       "std         0.368612       30.090047     0.441561\n",
       "min         0.000000       18.250000     0.000000\n",
       "25%         0.000000       35.500000     0.000000\n",
       "50%         0.000000       70.350000     0.000000\n",
       "75%         0.000000       89.850000     1.000000\n",
       "max         1.000000      118.750000     1.000000"
      ]
     },
     "execution_count": 13,
     "metadata": {},
     "output_type": "execute_result"
    }
   ],
   "source": [
    "# Estadísticas descriptivas generales\n",
    "print(\"Resumen Estadístico General:\")\n",
    "merged_df.describe()"
   ]
  },
  {
   "cell_type": "markdown",
   "metadata": {},
   "source": [
    "### Visualizar la relación entre 'Churn' y otras variables relevantes"
   ]
  },
  {
   "cell_type": "code",
   "execution_count": 14,
   "metadata": {},
   "outputs": [
    {
     "data": {
      "image/png": "[encoded data removed]",
      "text/plain": [
       "<Figure size 600x400 with 1 Axes>"
      ]
     },
     "metadata": {},
     "output_type": "display_data"
    }
   ],
   "source": [
    "# Distribución de cancelaciones\n",
    "plt.figure(figsize=(6, 4))\n",
    "sns.countplot(data=merged_df, x=\"Churn\")\n",
    "plt.title(\"Distribución de Clientes que Cancelaron\")\n",
    "plt.xlabel(\"Churn (Cancelación)\")\n",
    "plt.ylabel(\"Frecuencia\")\n",
    "plt.show()"
   ]
  },
  {
   "cell_type": "code",
   "execution_count": 15,
   "metadata": {},
   "outputs": [
    {
     "data": {
      "image/png": "[encoded data removed]",
      "text/plain": [
       "<Figure size 1600x2400 with 18 Axes>"
      ]
     },
     "metadata": {},
     "output_type": "display_data"
    }
   ],
   "source": [
    "# Filtrar columnas categóricas relevantes (excluyendo customerID)\n",
    "categorical_cols = [col for col in merged_df.select_dtypes(include=['object']).columns if col != \"customerID\"]\n",
    "\n",
    "# Definir el tamaño de la cuadrícula\n",
    "n_cols = 3  # Número de columnas en la cuadrícula\n",
    "n_rows = (len(categorical_cols) + n_cols - 1) // n_cols  # Calcular filas necesarias\n",
    "\n",
    "# Crear figura y ejes\n",
    "fig, axes = plt.subplots(n_rows, n_cols, figsize=(16, n_rows * 4))\n",
    "axes = axes.flatten()  # Aplanar los ejes para fácil iteración\n",
    "\n",
    "# Graficar cada variable categórica\n",
    "for i, col in enumerate(categorical_cols):\n",
    "    sns.countplot(data=merged_df, x=col, hue=\"Churn\", ax=axes[i])\n",
    "    axes[i].set_title(f\"Relación entre {col} y Churn\")\n",
    "    axes[i].set_xlabel(col)\n",
    "    axes[i].set_ylabel(\"Frecuencia\")\n",
    "    axes[i].legend(title=\"Churn\", loc=\"upper right\")  \n",
    "    \n",
    "# Ocultar ejes sobrantes si hay menos gráficos que cuadrantes\n",
    "for j in range(i + 1, len(axes)):\n",
    "    axes[j].axis(\"off\")\n",
    "\n",
    "# Ajustar espaciado\n",
    "plt.tight_layout()\n",
    "plt.show()"
   ]
  },
  {
   "cell_type": "code",
   "execution_count": 16,
   "metadata": {},
   "outputs": [
    {
     "data": {
      "image/png": "[encoded data removed]",
      "text/plain": [
       "<Figure size 1000x800 with 2 Axes>"
      ]
     },
     "metadata": {},
     "output_type": "display_data"
    }
   ],
   "source": [
    "# Correlación entre variables numéricas\n",
    "correlation_matrix = merged_df.corr()\n",
    "plt.figure(figsize=(10, 8))\n",
    "sns.heatmap(correlation_matrix, annot=True, cmap=\"coolwarm\", fmt=\".2f\")\n",
    "plt.title(\"Matriz de Correlación\")\n",
    "plt.show()"
   ]
  },
  {
   "cell_type": "markdown",
   "metadata": {},
   "source": [
    "Según los gráficos, los clientes que cancelan (Churn = 1) presentan las siguientes características:\n",
    "Tienen mayor probabilidad de estar en contratos de \"Month-to-month\" en lugar de contratos a uno o dos años.\n",
    "Prefieren métodos de pago como \"Electronic check\", los cuales están más asociados con tasas altas de cancelación.\n",
    "Los clientes sin servicios adicionales como \"OnlineSecurity\" o \"TechSupport\" tienen mayores tasas de cancelación.\n",
    "Los clientes que usan \"Fiber optic\" tienen una tasa de cancelación más alta en comparación con DSL."
   ]
  },
  {
   "cell_type": "markdown",
   "metadata": {},
   "source": [
    "<div class=\"alert alert-block alert-success\">\n",
    "<b>Comentario del revisor (1ra Iteracion)</b> <a class=“tocSkip”></a>\n",
    "\n",
    "Perfecto, interpretaste muy bien los datos con las gráficas. Esto ayuda a entender mejor los posibles comportamientos de los modelos\n",
    "</div>"
   ]
  },
  {
   "cell_type": "markdown",
   "metadata": {},
   "source": [
    "## Entrenamiento y Evaluación del Modelo"
   ]
  },
  {
   "cell_type": "code",
   "execution_count": 17,
   "metadata": {},
   "outputs": [],
   "source": [
    "# Usar Label Encoding para variables categóricas\n",
    "categorical_cols = merged_df.select_dtypes(include=['object']).columns\n",
    "label_encoders = {}\n",
    "for col in categorical_cols:\n",
    "    if col != \"customerid\":  # Excluir customerID\n",
    "        le = LabelEncoder()\n",
    "        merged_df[col] = le.fit_transform(merged_df[col])\n",
    "        label_encoders[col] = le"
   ]
  },
  {
   "cell_type": "code",
   "execution_count": 18,
   "metadata": {},
   "outputs": [
    {
     "data": {
      "text/html": [
       "<div>\n",
       "<style scoped>\n",
       "    .dataframe tbody tr th:only-of-type {\n",
       "        vertical-align: middle;\n",
       "    }\n",
       "\n",
       "    .dataframe tbody tr th {\n",
       "        vertical-align: top;\n",
       "    }\n",
       "\n",
       "    .dataframe thead th {\n",
       "        text-align: right;\n",
       "    }\n",
       "</style>\n",
       "<table border=\"1\" class=\"dataframe\">\n",
       "  <thead>\n",
       "    <tr style=\"text-align: right;\">\n",
       "      <th></th>\n",
       "      <th>customerID</th>\n",
       "      <th>gender</th>\n",
       "      <th>SeniorCitizen</th>\n",
       "      <th>Partner</th>\n",
       "      <th>Dependents</th>\n",
       "      <th>BeginDate</th>\n",
       "      <th>EndDate</th>\n",
       "      <th>Type</th>\n",
       "      <th>PaperlessBilling</th>\n",
       "      <th>PaymentMethod</th>\n",
       "      <th>...</th>\n",
       "      <th>TotalCharges</th>\n",
       "      <th>MultipleLines</th>\n",
       "      <th>InternetService</th>\n",
       "      <th>OnlineSecurity</th>\n",
       "      <th>OnlineBackup</th>\n",
       "      <th>DeviceProtection</th>\n",
       "      <th>TechSupport</th>\n",
       "      <th>StreamingTV</th>\n",
       "      <th>StreamingMovies</th>\n",
       "      <th>Churn</th>\n",
       "    </tr>\n",
       "  </thead>\n",
       "  <tbody>\n",
       "    <tr>\n",
       "      <th>0</th>\n",
       "      <td>5375</td>\n",
       "      <td>0</td>\n",
       "      <td>0</td>\n",
       "      <td>1</td>\n",
       "      <td>0</td>\n",
       "      <td>75</td>\n",
       "      <td>4</td>\n",
       "      <td>0</td>\n",
       "      <td>1</td>\n",
       "      <td>2</td>\n",
       "      <td>...</td>\n",
       "      <td>2505</td>\n",
       "      <td>2</td>\n",
       "      <td>0</td>\n",
       "      <td>0</td>\n",
       "      <td>1</td>\n",
       "      <td>0</td>\n",
       "      <td>0</td>\n",
       "      <td>0</td>\n",
       "      <td>0</td>\n",
       "      <td>0</td>\n",
       "    </tr>\n",
       "    <tr>\n",
       "      <th>1</th>\n",
       "      <td>3962</td>\n",
       "      <td>1</td>\n",
       "      <td>0</td>\n",
       "      <td>0</td>\n",
       "      <td>0</td>\n",
       "      <td>42</td>\n",
       "      <td>4</td>\n",
       "      <td>1</td>\n",
       "      <td>0</td>\n",
       "      <td>3</td>\n",
       "      <td>...</td>\n",
       "      <td>1466</td>\n",
       "      <td>0</td>\n",
       "      <td>0</td>\n",
       "      <td>1</td>\n",
       "      <td>0</td>\n",
       "      <td>1</td>\n",
       "      <td>0</td>\n",
       "      <td>0</td>\n",
       "      <td>0</td>\n",
       "      <td>0</td>\n",
       "    </tr>\n",
       "    <tr>\n",
       "      <th>2</th>\n",
       "      <td>2564</td>\n",
       "      <td>1</td>\n",
       "      <td>0</td>\n",
       "      <td>0</td>\n",
       "      <td>0</td>\n",
       "      <td>72</td>\n",
       "      <td>2</td>\n",
       "      <td>0</td>\n",
       "      <td>1</td>\n",
       "      <td>3</td>\n",
       "      <td>...</td>\n",
       "      <td>157</td>\n",
       "      <td>0</td>\n",
       "      <td>0</td>\n",
       "      <td>1</td>\n",
       "      <td>1</td>\n",
       "      <td>0</td>\n",
       "      <td>0</td>\n",
       "      <td>0</td>\n",
       "      <td>0</td>\n",
       "      <td>1</td>\n",
       "    </tr>\n",
       "    <tr>\n",
       "      <th>3</th>\n",
       "      <td>5535</td>\n",
       "      <td>1</td>\n",
       "      <td>0</td>\n",
       "      <td>0</td>\n",
       "      <td>0</td>\n",
       "      <td>31</td>\n",
       "      <td>4</td>\n",
       "      <td>1</td>\n",
       "      <td>0</td>\n",
       "      <td>0</td>\n",
       "      <td>...</td>\n",
       "      <td>1400</td>\n",
       "      <td>2</td>\n",
       "      <td>0</td>\n",
       "      <td>1</td>\n",
       "      <td>0</td>\n",
       "      <td>1</td>\n",
       "      <td>1</td>\n",
       "      <td>0</td>\n",
       "      <td>0</td>\n",
       "      <td>0</td>\n",
       "    </tr>\n",
       "    <tr>\n",
       "      <th>4</th>\n",
       "      <td>6511</td>\n",
       "      <td>0</td>\n",
       "      <td>0</td>\n",
       "      <td>0</td>\n",
       "      <td>0</td>\n",
       "      <td>71</td>\n",
       "      <td>1</td>\n",
       "      <td>0</td>\n",
       "      <td>1</td>\n",
       "      <td>2</td>\n",
       "      <td>...</td>\n",
       "      <td>925</td>\n",
       "      <td>0</td>\n",
       "      <td>1</td>\n",
       "      <td>0</td>\n",
       "      <td>0</td>\n",
       "      <td>0</td>\n",
       "      <td>0</td>\n",
       "      <td>0</td>\n",
       "      <td>0</td>\n",
       "      <td>1</td>\n",
       "    </tr>\n",
       "  </tbody>\n",
       "</table>\n",
       "<p>5 rows × 21 columns</p>\n",
       "</div>"
      ],
      "text/plain": [
       "   customerID  gender  SeniorCitizen  Partner  Dependents  BeginDate  EndDate  \\\n",
       "0        5375       0              0        1           0         75        4   \n",
       "1        3962       1              0        0           0         42        4   \n",
       "2        2564       1              0        0           0         72        2   \n",
       "3        5535       1              0        0           0         31        4   \n",
       "4        6511       0              0        0           0         71        1   \n",
       "\n",
       "   Type  PaperlessBilling  PaymentMethod  ...  TotalCharges  MultipleLines  \\\n",
       "0     0                 1              2  ...          2505              2   \n",
       "1     1                 0              3  ...          1466              0   \n",
       "2     0                 1              3  ...           157              0   \n",
       "3     1                 0              0  ...          1400              2   \n",
       "4     0                 1              2  ...           925              0   \n",
       "\n",
       "   InternetService  OnlineSecurity  OnlineBackup  DeviceProtection  \\\n",
       "0                0               0             1                 0   \n",
       "1                0               1             0                 1   \n",
       "2                0               1             1                 0   \n",
       "3                0               1             0                 1   \n",
       "4                1               0             0                 0   \n",
       "\n",
       "   TechSupport  StreamingTV  StreamingMovies  Churn  \n",
       "0            0            0                0      0  \n",
       "1            0            0                0      0  \n",
       "2            0            0                0      1  \n",
       "3            1            0                0      0  \n",
       "4            0            0                0      1  \n",
       "\n",
       "[5 rows x 21 columns]"
      ]
     },
     "execution_count": 18,
     "metadata": {},
     "output_type": "execute_result"
    }
   ],
   "source": [
    "merged_df.head()"
   ]
  },
  {
   "cell_type": "markdown",
   "metadata": {},
   "source": [
    "En este bloque se convirtieron las variables categóricas a valores numéricos utilizando, una técnica útil para preparar los datos categóricos para modelos de machine learning."
   ]
  },
  {
   "cell_type": "code",
   "execution_count": 19,
   "metadata": {},
   "outputs": [],
   "source": [
    "# Normalización de variables numéricas\n",
    "numeric_cols = merged_df.select_dtypes(include=['int64', 'float64']).columns\n",
    "scaler = StandardScaler()\n",
    "merged_df[numeric_cols] = scaler.fit_transform(merged_df[numeric_cols])"
   ]
  },
  {
   "cell_type": "code",
   "execution_count": 20,
   "metadata": {},
   "outputs": [
    {
     "name": "stdout",
     "output_type": "stream",
     "text": [
      "Tamaños de los conjuntos:\n",
      "Entrenamiento: (4930, 17) (4930,)\n",
      "Validación: (1056, 17) (1056,)\n",
      "Prueba: (1057, 17) (1057,)\n"
     ]
    }
   ],
   "source": [
    "# División del conjunto de datos\n",
    "\n",
    "# Separar las características (X) y la variable objetivo (y)\n",
    "X = merged_df.drop(columns=[\"Churn\", \"customerID\", \"BeginDate\", \"EndDate\"])  # Eliminar Churn y customerID de las características\n",
    "y = merged_df[\"Churn\"]  # Variable objetivo\n",
    "\n",
    "# Dividir datos en entrenamiento, validación y prueba\n",
    "X_train, X_temp, y_train, y_temp = train_test_split(X, y, test_size=0.3, random_state=42)\n",
    "X_valid, X_test, y_valid, y_test = train_test_split(X_temp, y_temp, test_size=0.5, random_state=42)\n",
    "\n",
    "print(\"Tamaños de los conjuntos:\")\n",
    "print(\"Entrenamiento:\", X_train.shape, y_train.shape)\n",
    "print(\"Validación:\", X_valid.shape, y_valid.shape)\n",
    "print(\"Prueba:\", X_test.shape, y_test.shape)"
   ]
  },
  {
   "cell_type": "markdown",
   "metadata": {},
   "source": [
    "<div class=\"alert alert-block alert-success\">\n",
    "<b>Comentario del revisor (1ra Iteracion)</b> <a class=“tocSkip”></a>\n",
    "\n",
    "Muy bien, preparaste correctamente los datos para poder evaluar el desempeño de los modelos\n",
    "</div>"
   ]
  },
  {
   "cell_type": "code",
   "execution_count": 21,
   "metadata": {},
   "outputs": [
    {
     "data": {
      "text/html": [
       "<div>\n",
       "<style scoped>\n",
       "    .dataframe tbody tr th:only-of-type {\n",
       "        vertical-align: middle;\n",
       "    }\n",
       "\n",
       "    .dataframe tbody tr th {\n",
       "        vertical-align: top;\n",
       "    }\n",
       "\n",
       "    .dataframe thead th {\n",
       "        text-align: right;\n",
       "    }\n",
       "</style>\n",
       "<table border=\"1\" class=\"dataframe\">\n",
       "  <thead>\n",
       "    <tr style=\"text-align: right;\">\n",
       "      <th></th>\n",
       "      <th>gender</th>\n",
       "      <th>SeniorCitizen</th>\n",
       "      <th>Partner</th>\n",
       "      <th>Dependents</th>\n",
       "      <th>Type</th>\n",
       "      <th>PaperlessBilling</th>\n",
       "      <th>PaymentMethod</th>\n",
       "      <th>MonthlyCharges</th>\n",
       "      <th>TotalCharges</th>\n",
       "      <th>MultipleLines</th>\n",
       "      <th>InternetService</th>\n",
       "      <th>OnlineSecurity</th>\n",
       "      <th>OnlineBackup</th>\n",
       "      <th>DeviceProtection</th>\n",
       "      <th>TechSupport</th>\n",
       "      <th>StreamingTV</th>\n",
       "      <th>StreamingMovies</th>\n",
       "    </tr>\n",
       "  </thead>\n",
       "  <tbody>\n",
       "    <tr>\n",
       "      <th>1695</th>\n",
       "      <td>0.990532</td>\n",
       "      <td>-0.439916</td>\n",
       "      <td>1.034530</td>\n",
       "      <td>1.529024</td>\n",
       "      <td>0.371271</td>\n",
       "      <td>0.829798</td>\n",
       "      <td>0.398558</td>\n",
       "      <td>0.197365</td>\n",
       "      <td>-0.011540</td>\n",
       "      <td>0.586128</td>\n",
       "      <td>-1.183234</td>\n",
       "      <td>-0.903589</td>\n",
       "      <td>0.284912</td>\n",
       "      <td>-0.998016</td>\n",
       "      <td>0.347362</td>\n",
       "      <td>0.238887</td>\n",
       "      <td>-1.078210</td>\n",
       "    </tr>\n",
       "    <tr>\n",
       "      <th>1095</th>\n",
       "      <td>0.990532</td>\n",
       "      <td>-0.439916</td>\n",
       "      <td>-0.966622</td>\n",
       "      <td>-0.654012</td>\n",
       "      <td>-0.828207</td>\n",
       "      <td>0.829798</td>\n",
       "      <td>0.398558</td>\n",
       "      <td>0.524739</td>\n",
       "      <td>1.463129</td>\n",
       "      <td>-0.938280</td>\n",
       "      <td>0.172250</td>\n",
       "      <td>-0.903589</td>\n",
       "      <td>-0.999747</td>\n",
       "      <td>-0.998016</td>\n",
       "      <td>-0.909172</td>\n",
       "      <td>0.238887</td>\n",
       "      <td>-1.078210</td>\n",
       "    </tr>\n",
       "    <tr>\n",
       "      <th>3889</th>\n",
       "      <td>0.990532</td>\n",
       "      <td>-0.439916</td>\n",
       "      <td>-0.966622</td>\n",
       "      <td>-0.654012</td>\n",
       "      <td>0.371271</td>\n",
       "      <td>-1.205113</td>\n",
       "      <td>-0.537747</td>\n",
       "      <td>-1.510962</td>\n",
       "      <td>-0.538397</td>\n",
       "      <td>-0.938280</td>\n",
       "      <td>1.527734</td>\n",
       "      <td>1.606361</td>\n",
       "      <td>1.569572</td>\n",
       "      <td>1.570134</td>\n",
       "      <td>1.603896</td>\n",
       "      <td>1.549232</td>\n",
       "      <td>1.547597</td>\n",
       "    </tr>\n",
       "    <tr>\n",
       "      <th>3667</th>\n",
       "      <td>-1.009559</td>\n",
       "      <td>2.273159</td>\n",
       "      <td>1.034530</td>\n",
       "      <td>1.529024</td>\n",
       "      <td>1.570749</td>\n",
       "      <td>0.829798</td>\n",
       "      <td>0.398558</td>\n",
       "      <td>1.056514</td>\n",
       "      <td>-0.718958</td>\n",
       "      <td>-0.938280</td>\n",
       "      <td>0.172250</td>\n",
       "      <td>-0.903589</td>\n",
       "      <td>-0.999747</td>\n",
       "      <td>0.286059</td>\n",
       "      <td>-0.909172</td>\n",
       "      <td>0.238887</td>\n",
       "      <td>0.234693</td>\n",
       "    </tr>\n",
       "    <tr>\n",
       "      <th>2902</th>\n",
       "      <td>-1.009559</td>\n",
       "      <td>2.273159</td>\n",
       "      <td>-0.966622</td>\n",
       "      <td>-0.654012</td>\n",
       "      <td>-0.828207</td>\n",
       "      <td>0.829798</td>\n",
       "      <td>0.398558</td>\n",
       "      <td>0.310367</td>\n",
       "      <td>0.302985</td>\n",
       "      <td>-0.938280</td>\n",
       "      <td>0.172250</td>\n",
       "      <td>0.351386</td>\n",
       "      <td>-0.999747</td>\n",
       "      <td>-0.998016</td>\n",
       "      <td>-0.909172</td>\n",
       "      <td>-1.071457</td>\n",
       "      <td>-1.078210</td>\n",
       "    </tr>\n",
       "    <tr>\n",
       "      <th>...</th>\n",
       "      <td>...</td>\n",
       "      <td>...</td>\n",
       "      <td>...</td>\n",
       "      <td>...</td>\n",
       "      <td>...</td>\n",
       "      <td>...</td>\n",
       "      <td>...</td>\n",
       "      <td>...</td>\n",
       "      <td>...</td>\n",
       "      <td>...</td>\n",
       "      <td>...</td>\n",
       "      <td>...</td>\n",
       "      <td>...</td>\n",
       "      <td>...</td>\n",
       "      <td>...</td>\n",
       "      <td>...</td>\n",
       "      <td>...</td>\n",
       "    </tr>\n",
       "    <tr>\n",
       "      <th>3772</th>\n",
       "      <td>0.990532</td>\n",
       "      <td>-0.439916</td>\n",
       "      <td>1.034530</td>\n",
       "      <td>-0.654012</td>\n",
       "      <td>-0.828207</td>\n",
       "      <td>0.829798</td>\n",
       "      <td>0.398558</td>\n",
       "      <td>1.004999</td>\n",
       "      <td>1.684991</td>\n",
       "      <td>-0.938280</td>\n",
       "      <td>0.172250</td>\n",
       "      <td>0.351386</td>\n",
       "      <td>-0.999747</td>\n",
       "      <td>-0.998016</td>\n",
       "      <td>-0.909172</td>\n",
       "      <td>0.238887</td>\n",
       "      <td>0.234693</td>\n",
       "    </tr>\n",
       "    <tr>\n",
       "      <th>5191</th>\n",
       "      <td>-1.009559</td>\n",
       "      <td>-0.439916</td>\n",
       "      <td>1.034530</td>\n",
       "      <td>1.529024</td>\n",
       "      <td>1.570749</td>\n",
       "      <td>0.829798</td>\n",
       "      <td>-0.537747</td>\n",
       "      <td>0.875378</td>\n",
       "      <td>-0.761847</td>\n",
       "      <td>0.586128</td>\n",
       "      <td>-1.183234</td>\n",
       "      <td>0.351386</td>\n",
       "      <td>0.284912</td>\n",
       "      <td>0.286059</td>\n",
       "      <td>0.347362</td>\n",
       "      <td>0.238887</td>\n",
       "      <td>0.234693</td>\n",
       "    </tr>\n",
       "    <tr>\n",
       "      <th>5226</th>\n",
       "      <td>0.990532</td>\n",
       "      <td>-0.439916</td>\n",
       "      <td>1.034530</td>\n",
       "      <td>1.529024</td>\n",
       "      <td>-0.828207</td>\n",
       "      <td>0.829798</td>\n",
       "      <td>0.398558</td>\n",
       "      <td>-1.449476</td>\n",
       "      <td>-0.317064</td>\n",
       "      <td>-0.938280</td>\n",
       "      <td>1.527734</td>\n",
       "      <td>1.606361</td>\n",
       "      <td>1.569572</td>\n",
       "      <td>1.570134</td>\n",
       "      <td>1.603896</td>\n",
       "      <td>1.549232</td>\n",
       "      <td>1.547597</td>\n",
       "    </tr>\n",
       "    <tr>\n",
       "      <th>5390</th>\n",
       "      <td>0.990532</td>\n",
       "      <td>2.273159</td>\n",
       "      <td>-0.966622</td>\n",
       "      <td>-0.654012</td>\n",
       "      <td>-0.828207</td>\n",
       "      <td>0.829798</td>\n",
       "      <td>0.398558</td>\n",
       "      <td>1.152899</td>\n",
       "      <td>-1.529099</td>\n",
       "      <td>0.586128</td>\n",
       "      <td>0.172250</td>\n",
       "      <td>-0.903589</td>\n",
       "      <td>-0.999747</td>\n",
       "      <td>0.286059</td>\n",
       "      <td>-0.909172</td>\n",
       "      <td>0.238887</td>\n",
       "      <td>0.234693</td>\n",
       "    </tr>\n",
       "    <tr>\n",
       "      <th>860</th>\n",
       "      <td>0.990532</td>\n",
       "      <td>-0.439916</td>\n",
       "      <td>-0.966622</td>\n",
       "      <td>-0.654012</td>\n",
       "      <td>0.371271</td>\n",
       "      <td>-1.205113</td>\n",
       "      <td>-0.537747</td>\n",
       "      <td>-1.494344</td>\n",
       "      <td>0.334756</td>\n",
       "      <td>-0.938280</td>\n",
       "      <td>1.527734</td>\n",
       "      <td>1.606361</td>\n",
       "      <td>1.569572</td>\n",
       "      <td>1.570134</td>\n",
       "      <td>1.603896</td>\n",
       "      <td>1.549232</td>\n",
       "      <td>1.547597</td>\n",
       "    </tr>\n",
       "  </tbody>\n",
       "</table>\n",
       "<p>4930 rows × 17 columns</p>\n",
       "</div>"
      ],
      "text/plain": [
       "        gender  SeniorCitizen   Partner  Dependents      Type  \\\n",
       "1695  0.990532      -0.439916  1.034530    1.529024  0.371271   \n",
       "1095  0.990532      -0.439916 -0.966622   -0.654012 -0.828207   \n",
       "3889  0.990532      -0.439916 -0.966622   -0.654012  0.371271   \n",
       "3667 -1.009559       2.273159  1.034530    1.529024  1.570749   \n",
       "2902 -1.009559       2.273159 -0.966622   -0.654012 -0.828207   \n",
       "...        ...            ...       ...         ...       ...   \n",
       "3772  0.990532      -0.439916  1.034530   -0.654012 -0.828207   \n",
       "5191 -1.009559      -0.439916  1.034530    1.529024  1.570749   \n",
       "5226  0.990532      -0.439916  1.034530    1.529024 -0.828207   \n",
       "5390  0.990532       2.273159 -0.966622   -0.654012 -0.828207   \n",
       "860   0.990532      -0.439916 -0.966622   -0.654012  0.371271   \n",
       "\n",
       "      PaperlessBilling  PaymentMethod  MonthlyCharges  TotalCharges  \\\n",
       "1695          0.829798       0.398558        0.197365     -0.011540   \n",
       "1095          0.829798       0.398558        0.524739      1.463129   \n",
       "3889         -1.205113      -0.537747       -1.510962     -0.538397   \n",
       "3667          0.829798       0.398558        1.056514     -0.718958   \n",
       "2902          0.829798       0.398558        0.310367      0.302985   \n",
       "...                ...            ...             ...           ...   \n",
       "3772          0.829798       0.398558        1.004999      1.684991   \n",
       "5191          0.829798      -0.537747        0.875378     -0.761847   \n",
       "5226          0.829798       0.398558       -1.449476     -0.317064   \n",
       "5390          0.829798       0.398558        1.152899     -1.529099   \n",
       "860          -1.205113      -0.537747       -1.494344      0.334756   \n",
       "\n",
       "      MultipleLines  InternetService  OnlineSecurity  OnlineBackup  \\\n",
       "1695       0.586128        -1.183234       -0.903589      0.284912   \n",
       "1095      -0.938280         0.172250       -0.903589     -0.999747   \n",
       "3889      -0.938280         1.527734        1.606361      1.569572   \n",
       "3667      -0.938280         0.172250       -0.903589     -0.999747   \n",
       "2902      -0.938280         0.172250        0.351386     -0.999747   \n",
       "...             ...              ...             ...           ...   \n",
       "3772      -0.938280         0.172250        0.351386     -0.999747   \n",
       "5191       0.586128        -1.183234        0.351386      0.284912   \n",
       "5226      -0.938280         1.527734        1.606361      1.569572   \n",
       "5390       0.586128         0.172250       -0.903589     -0.999747   \n",
       "860       -0.938280         1.527734        1.606361      1.569572   \n",
       "\n",
       "      DeviceProtection  TechSupport  StreamingTV  StreamingMovies  \n",
       "1695         -0.998016     0.347362     0.238887        -1.078210  \n",
       "1095         -0.998016    -0.909172     0.238887        -1.078210  \n",
       "3889          1.570134     1.603896     1.549232         1.547597  \n",
       "3667          0.286059    -0.909172     0.238887         0.234693  \n",
       "2902         -0.998016    -0.909172    -1.071457        -1.078210  \n",
       "...                ...          ...          ...              ...  \n",
       "3772         -0.998016    -0.909172     0.238887         0.234693  \n",
       "5191          0.286059     0.347362     0.238887         0.234693  \n",
       "5226          1.570134     1.603896     1.549232         1.547597  \n",
       "5390          0.286059    -0.909172     0.238887         0.234693  \n",
       "860           1.570134     1.603896     1.549232         1.547597  \n",
       "\n",
       "[4930 rows x 17 columns]"
      ]
     },
     "execution_count": 21,
     "metadata": {},
     "output_type": "execute_result"
    }
   ],
   "source": [
    "X_train"
   ]
  },
  {
   "cell_type": "code",
   "execution_count": 22,
   "metadata": {},
   "outputs": [
    {
     "name": "stdout",
     "output_type": "stream",
     "text": [
      "1695   -0.601023\n",
      "1095   -0.601023\n",
      "3889   -0.601023\n",
      "3667   -0.601023\n",
      "2902   -0.601023\n",
      "Name: Churn, dtype: float64\n",
      "5743   -0.601023\n",
      "3207   -0.601023\n",
      "2574    1.663829\n",
      "6085    1.663829\n",
      "676    -0.601023\n",
      "Name: Churn, dtype: float64\n",
      "23     -0.601023\n",
      "3114   -0.601023\n",
      "5525   -0.601023\n",
      "437    -0.601023\n",
      "3615    1.663829\n",
      "Name: Churn, dtype: float64\n"
     ]
    }
   ],
   "source": [
    "print(y_train.head())\n",
    "print(y_valid.head())\n",
    "print(y_test.head())"
   ]
  },
  {
   "cell_type": "code",
   "execution_count": 23,
   "metadata": {},
   "outputs": [],
   "source": [
    "y_train = y_train.astype(int)\n",
    "y_valid = y_valid.astype(int)\n",
    "y_test = y_test.astype(int)  "
   ]
  },
  {
   "cell_type": "code",
   "execution_count": 24,
   "metadata": {},
   "outputs": [
    {
     "name": "stdout",
     "output_type": "stream",
     "text": [
      "[0 1]\n"
     ]
    }
   ],
   "source": [
    "print(y_train.unique()) "
   ]
  },
  {
   "cell_type": "markdown",
   "metadata": {},
   "source": [
    "Aqui validamos que los valores de la columna objetivo quedaron como flotantes, por lo que se procedio a convertirlos en enteros para el correcto funcionamiento del modelo."
   ]
  },
  {
   "cell_type": "code",
   "execution_count": 25,
   "metadata": {},
   "outputs": [],
   "source": [
    "# Calcular pesos basados en la columna y_train\n",
    "sample_weights = compute_sample_weight(class_weight='balanced', y=y_train)"
   ]
  },
  {
   "cell_type": "markdown",
   "metadata": {},
   "source": [
    "Se usa sample_weights como parámetro para el balanceo de las clases."
   ]
  },
  {
   "cell_type": "code",
   "execution_count": 26,
   "metadata": {},
   "outputs": [],
   "source": [
    "# Crear una función para entrenar, ajustar y evaluar modelos\n",
    "def train_and_evaluate_model_with_gridsearch(model, param_grid, model_name):\n",
    "    print(f\"\\n{'='*40}\\nEntrenando modelo: {model_name}\\n{'='*40}\")\n",
    "\n",
    "    # GridSearchCV para encontrar los mejores hiperparámetros\n",
    "    grid_search = GridSearchCV(model, param_grid, scoring='roc_auc', cv=3, verbose=1, n_jobs=-1)\n",
    "    grid_search.fit(X_train, y_train, sample_weight=sample_weights)\n",
    "\n",
    "    print(f\"\\nMejores Hiperparámetros para {model_name}: {grid_search.best_params_}\")\n",
    "    best_model = grid_search.best_estimator_\n",
    "\n",
    "    # Evaluación en el conjunto de validación\n",
    "    print(f\"\\nEvaluación en el conjunto de validación: {model_name}\")\n",
    "    y_valid_pred = best_model.predict(X_valid)\n",
    "    y_valid_proba = best_model.predict_proba(X_valid)[:, 1]  \n",
    "    print(classification_report(y_valid, y_valid_pred))\n",
    "    print(\"Accuracy en validación:\", accuracy_score(y_valid, y_valid_pred))\n",
    "    print(\"ROC-AUC en validación:\", roc_auc_score(y_valid, y_valid_proba))\n",
    "\n",
    "    # Matriz de confusión para el conjunto de validación\n",
    "    print(\"Matriz de confusión (Validación):\")\n",
    "    print(confusion_matrix(y_valid, y_valid_pred))\n",
    "\n",
    "    # Curva ROC para validación\n",
    "    fpr, tpr, _ = roc_curve(y_valid, y_valid_proba)\n",
    "    plt.figure()\n",
    "    plt.plot(fpr, tpr, label=f\"ROC Curve (Validation) - {model_name}\")\n",
    "    plt.plot([0, 1], [0, 1], 'k--', label=\"Random Guess\")\n",
    "    plt.xlabel(\"False Positive Rate\")\n",
    "    plt.ylabel(\"True Positive Rate\")\n",
    "    plt.title(f\"ROC Curve (Validation) - {model_name}\")\n",
    "    plt.legend()\n",
    "    plt.show()\n",
    "\n",
    "    # Evaluación en el conjunto de prueba\n",
    "    print(f\"\\nEvaluación en el conjunto de prueba: {model_name}\")\n",
    "    y_test_pred = best_model.predict(X_test)\n",
    "    y_test_proba = best_model.predict_proba(X_test)[:, 1]  \n",
    "    print(classification_report(y_test, y_test_pred))\n",
    "    print(\"Accuracy en prueba:\", accuracy_score(y_test, y_test_pred))\n",
    "    print(\"ROC-AUC en prueba:\", roc_auc_score(y_test, y_test_proba))\n",
    "\n",
    "    # Matriz de confusión para el conjunto de prueba\n",
    "    print(\"Matriz de confusión (Prueba):\")\n",
    "    print(confusion_matrix(y_test, y_test_pred))\n",
    "\n",
    "    # Curva ROC para prueba\n",
    "    fpr, tpr, _ = roc_curve(y_test, y_test_proba)\n",
    "    plt.figure()\n",
    "    plt.plot(fpr, tpr, label=f\"ROC Curve (Test) - {model_name}\")\n",
    "    plt.plot([0, 1], [0, 1], 'k--', label=\"Random Guess\")\n",
    "    plt.xlabel(\"False Positive Rate\")\n",
    "    plt.ylabel(\"True Positive Rate\")\n",
    "    plt.title(f\"ROC Curve (Test) - {model_name}\")\n",
    "    plt.legend()\n",
    "    plt.show()"
   ]
  },
  {
   "cell_type": "code",
   "execution_count": 27,
   "metadata": {},
   "outputs": [
    {
     "name": "stdout",
     "output_type": "stream",
     "text": [
      "\n",
      "========================================\n",
      "Entrenando modelo: Logistic Regression\n",
      "========================================\n",
      "Fitting 3 folds for each of 8 candidates, totalling 24 fits\n",
      "\n",
      "Mejores Hiperparámetros para Logistic Regression: {'C': 0.1, 'solver': 'liblinear'}\n",
      "\n",
      "Evaluación en el conjunto de validación: Logistic Regression\n",
      "              precision    recall  f1-score   support\n",
      "\n",
      "           0       0.92      0.70      0.79       778\n",
      "           1       0.50      0.83      0.62       278\n",
      "\n",
      "    accuracy                           0.73      1056\n",
      "   macro avg       0.71      0.77      0.71      1056\n",
      "weighted avg       0.81      0.73      0.75      1056\n",
      "\n",
      "Accuracy en validación: 0.7339015151515151\n",
      "ROC-AUC en validación: 0.8418653252205434\n",
      "Matriz de confusión (Validación):\n",
      "[[543 235]\n",
      " [ 46 232]]\n"
     ]
    },
    {
     "data": {
      "image/png": "[encoded data removed]",
      "text/plain": [
       "<Figure size 640x480 with 1 Axes>"
      ]
     },
     "metadata": {},
     "output_type": "display_data"
    },
    {
     "name": "stdout",
     "output_type": "stream",
     "text": [
      "\n",
      "Evaluación en el conjunto de prueba: Logistic Regression\n",
      "              precision    recall  f1-score   support\n",
      "\n",
      "           0       0.91      0.69      0.78       761\n",
      "           1       0.51      0.83      0.63       296\n",
      "\n",
      "    accuracy                           0.73      1057\n",
      "   macro avg       0.71      0.76      0.71      1057\n",
      "weighted avg       0.80      0.73      0.74      1057\n",
      "\n",
      "Accuracy en prueba: 0.727530747398297\n",
      "ROC-AUC en prueba: 0.8334184217068579\n",
      "Matriz de confusión (Prueba):\n",
      "[[524 237]\n",
      " [ 51 245]]\n"
     ]
    },
    {
     "data": {
      "image/png": "[encoded data removed]",
      "text/plain": [
       "<Figure size 640x480 with 1 Axes>"
      ]
     },
     "metadata": {},
     "output_type": "display_data"
    }
   ],
   "source": [
    "# Logistic Regression\n",
    "logistic_model = LogisticRegression(random_state=42, max_iter=1000)\n",
    "logistic_param_grid = {\n",
    "    'C': [0.01, 0.1, 1, 10],\n",
    "    'solver': ['liblinear', 'lbfgs']\n",
    "}\n",
    "train_and_evaluate_model_with_gridsearch(logistic_model, logistic_param_grid, \"Logistic Regression\")"
   ]
  },
  {
   "cell_type": "code",
   "execution_count": 28,
   "metadata": {},
   "outputs": [
    {
     "name": "stdout",
     "output_type": "stream",
     "text": [
      "\n",
      "========================================\n",
      "Entrenando modelo: Random Forest\n",
      "========================================\n",
      "Fitting 3 folds for each of 27 candidates, totalling 81 fits\n",
      "\n",
      "Mejores Hiperparámetros para Random Forest: {'max_depth': 10, 'min_samples_split': 10, 'n_estimators': 200}\n",
      "\n",
      "Evaluación en el conjunto de validación: Random Forest\n",
      "              precision    recall  f1-score   support\n",
      "\n",
      "           0       0.89      0.78      0.83       778\n",
      "           1       0.54      0.73      0.62       278\n",
      "\n",
      "    accuracy                           0.77      1056\n",
      "   macro avg       0.72      0.76      0.73      1056\n",
      "weighted avg       0.80      0.77      0.78      1056\n",
      "\n",
      "Accuracy en validación: 0.7679924242424242\n",
      "ROC-AUC en validación: 0.8461004974940355\n",
      "Matriz de confusión (Validación):\n",
      "[[608 170]\n",
      " [ 75 203]]\n"
     ]
    },
    {
     "data": {
      "image/png": "[encoded data removed]",
      "text/plain": [
       "<Figure size 640x480 with 1 Axes>"
      ]
     },
     "metadata": {},
     "output_type": "display_data"
    },
    {
     "name": "stdout",
     "output_type": "stream",
     "text": [
      "\n",
      "Evaluación en el conjunto de prueba: Random Forest\n",
      "              precision    recall  f1-score   support\n",
      "\n",
      "           0       0.88      0.78      0.82       761\n",
      "           1       0.56      0.73      0.63       296\n",
      "\n",
      "    accuracy                           0.76      1057\n",
      "   macro avg       0.72      0.75      0.73      1057\n",
      "weighted avg       0.79      0.76      0.77      1057\n",
      "\n",
      "Accuracy en prueba: 0.7615894039735099\n",
      "ROC-AUC en prueba: 0.8364416486131335\n",
      "Matriz de confusión (Prueba):\n",
      "[[590 171]\n",
      " [ 81 215]]\n"
     ]
    },
    {
     "data": {
      "image/png": "[encoded data removed]",
      "text/plain": [
       "<Figure size 640x480 with 1 Axes>"
      ]
     },
     "metadata": {},
     "output_type": "display_data"
    }
   ],
   "source": [
    "# Random Forest\n",
    "random_forest_model = RandomForestClassifier(random_state=42)\n",
    "random_forest_param_grid = {\n",
    "    'n_estimators': [50, 100, 200],\n",
    "    'max_depth': [None, 10, 20],\n",
    "    'min_samples_split': [2, 5, 10]\n",
    "}\n",
    "train_and_evaluate_model_with_gridsearch(random_forest_model, random_forest_param_grid, \"Random Forest\")"
   ]
  },
  {
   "cell_type": "code",
   "execution_count": 29,
   "metadata": {},
   "outputs": [
    {
     "name": "stdout",
     "output_type": "stream",
     "text": [
      "\n",
      "========================================\n",
      "Entrenando modelo: Gradient Boosting\n",
      "========================================\n",
      "Fitting 3 folds for each of 27 candidates, totalling 81 fits\n",
      "\n",
      "Mejores Hiperparámetros para Gradient Boosting: {'learning_rate': 0.1, 'max_depth': 3, 'n_estimators': 50}\n",
      "\n",
      "Evaluación en el conjunto de validación: Gradient Boosting\n",
      "              precision    recall  f1-score   support\n",
      "\n",
      "           0       0.92      0.71      0.80       778\n",
      "           1       0.50      0.83      0.62       278\n",
      "\n",
      "    accuracy                           0.74      1056\n",
      "   macro avg       0.71      0.77      0.71      1056\n",
      "weighted avg       0.81      0.74      0.75      1056\n",
      "\n",
      "Accuracy en validación: 0.7386363636363636\n",
      "ROC-AUC en validación: 0.8472402026964547\n",
      "Matriz de confusión (Validación):\n",
      "[[550 228]\n",
      " [ 48 230]]\n"
     ]
    },
    {
     "data": {
      "image/png": "[encoded data removed]",
      "text/plain": [
       "<Figure size 640x480 with 1 Axes>"
      ]
     },
     "metadata": {},
     "output_type": "display_data"
    },
    {
     "name": "stdout",
     "output_type": "stream",
     "text": [
      "\n",
      "Evaluación en el conjunto de prueba: Gradient Boosting\n",
      "              precision    recall  f1-score   support\n",
      "\n",
      "           0       0.91      0.71      0.79       761\n",
      "           1       0.52      0.81      0.63       296\n",
      "\n",
      "    accuracy                           0.74      1057\n",
      "   macro avg       0.71      0.76      0.71      1057\n",
      "weighted avg       0.80      0.74      0.75      1057\n",
      "\n",
      "Accuracy en prueba: 0.7350993377483444\n",
      "ROC-AUC en prueba: 0.8373761409241041\n",
      "Matriz de confusión (Prueba):\n",
      "[[537 224]\n",
      " [ 56 240]]\n"
     ]
    },
    {
     "data": {
      "image/png": "[encoded data removed]",
      "text/plain": [
       "<Figure size 640x480 with 1 Axes>"
      ]
     },
     "metadata": {},
     "output_type": "display_data"
    }
   ],
   "source": [
    "# Gradient Boosting\n",
    "gradient_boosting_model = GradientBoostingClassifier(random_state=42)\n",
    "gradient_boosting_param_grid = {\n",
    "    'learning_rate': [0.01, 0.1, 0.2],\n",
    "    'n_estimators': [50, 100, 200],\n",
    "    'max_depth': [3, 5, 7]\n",
    "}\n",
    "train_and_evaluate_model_with_gridsearch(gradient_boosting_model, gradient_boosting_param_grid, \"Gradient Boosting\")"
   ]
  },
  {
   "cell_type": "markdown",
   "metadata": {},
   "source": [
    "## Conclusion\n",
    "\n",
    "Tras analizar las métricas obtenidas para los diferentes modelos (Regresión Logística, Random Forest y Gradient Boosting), las principales conclusiones son las siguientes:\n",
    "\n",
    "Regresión Logística:\n",
    "\n",
    "En validación:\n",
    "AUC-ROC: 0.8418.\n",
    "Accuracy: 0.7339.\n",
    "En prueba:\n",
    "AUC-ROC: 0.8334.\n",
    "Accuracy: 0.7275.\n",
    "En general muestra un desempeño balanceado.\n",
    "\n",
    "Random Forest:\n",
    "\n",
    "En validación:\n",
    "AUC-ROC: 0.8461.\n",
    "Accuracy: 0.7679.\n",
    "En prueba:\n",
    "AUC-ROC: 0.8364.\n",
    "Accuracy: 0.7615.\n",
    "Modelo robusto con una mejora en AUC-ROC y accuracy respecto a la Regresión Logística, especialmente en la validación.\n",
    "\n",
    "Gradient Boosting:\n",
    "\n",
    "En validación:\n",
    "AUC-ROC: 0.8472.\n",
    "Accuracy: 0.7386.\n",
    "En prueba:\n",
    "AUC-ROC: 0.8373.\n",
    "Accuracy: 0.7350.\n",
    "Similar al Random Forest, pero con un desempeño apenas inferior en accuracy y ligeramente superior en AUC-ROC en validación y prueba.\n",
    "\n",
    "Recomendación:\n",
    "Modelo recomendado: Random Forest.\n",
    "\n",
    "Proporciona un buen balance entre precisión y sensibilidad, con una alta métrica de AUC-ROC que lo posiciona como el más confiable para la tarea específica de clasificación. Además, tiene una estabilidad notable entre los conjuntos de validación y prueba, lo que indica buena generalización."
   ]
  },
  {
   "cell_type": "markdown",
   "metadata": {},
   "source": [
    "<div class=\"alert alert-block alert-success\">\n",
    "<b>Comentario general (1ra Iteración)</b> <a class=“tocSkip”></a>\n",
    "\n",
    "¡Muy buen trabajo con tu proyecto Elaine! \n",
    "    \n",
    "Realizaste una muy buena exploración de tus datos y planteaste comentarios acertados de los resultados, las métricas utilizadas para tus modelos son las adecuadas considerando el problema de clases desbalanceadas que tenías en tu variable objetivo. Debo destacar la presentación de los resultados de tus modelos, es súper clara e intuitiva.\n",
    "    \n",
    "Me gustaría dejarte algunas recomendaciones para que resaltes tu perfil profesional en el mundo laboral:\n",
    "    \n",
    "- **Exponer los modelos:** Puedes agregar más valor a tu perfil profesional exponiendo los modelos para que puedan ser utilizados en algún demo, esto puedes hacerlo con streamlit y en render.com cómo lo hiciste en un sprint anterior. Pero si quieres ir más allá también podrías investigar y hacerlo utilizando el framework de FastAPI.\n",
    "- **Herramientas cloud:** Para demostrar un perfil más completo, también podrías utilizar algún servicio cloud cómo AWS y tratar de subir tus modelos entrenados ahí. No tienes que hacerlo a manera de experto, pero siempre es un plus tener conocimiento de estas herramientas.\n",
    "- **Continúa aprendiendo y practicando:** La práctica hace al maestro, mientras más practiques más errores podrás solucionar y estarás más listo para afrontar problemas reales en un entorno laboral.\n",
    "    \n",
    "Saludos y felicidades!\n",
    "</div>"
   ]
  }
 ],
 "metadata": {
  "ExecuteTimeLog": [
   {
    "duration": 342,
    "start_time": "2024-12-24T15:22:44.080Z"
   },
   {
    "duration": 37,
    "start_time": "2024-12-24T15:22:44.424Z"
   },
   {
    "duration": 11,
    "start_time": "2024-12-24T15:22:44.462Z"
   },
   {
    "duration": 14,
    "start_time": "2024-12-24T15:22:44.475Z"
   },
   {
    "duration": 25,
    "start_time": "2024-12-24T15:22:44.490Z"
   },
   {
    "duration": 12,
    "start_time": "2024-12-24T15:22:44.517Z"
   },
   {
    "duration": 17,
    "start_time": "2024-12-24T15:22:44.530Z"
   },
   {
    "duration": 13,
    "start_time": "2024-12-24T15:22:44.549Z"
   },
   {
    "duration": 13,
    "start_time": "2024-12-24T15:22:44.564Z"
   },
   {
    "duration": 46,
    "start_time": "2024-12-24T15:22:44.579Z"
   },
   {
    "duration": 4,
    "start_time": "2024-12-24T15:22:44.627Z"
   },
   {
    "duration": 14,
    "start_time": "2024-12-24T15:22:44.633Z"
   },
   {
    "duration": 2278,
    "start_time": "2024-12-24T15:22:44.648Z"
   },
   {
    "duration": 1429,
    "start_time": "2024-12-24T15:22:46.928Z"
   },
   {
    "duration": 0,
    "start_time": "2024-12-24T15:22:48.359Z"
   },
   {
    "duration": 0,
    "start_time": "2024-12-24T15:22:48.359Z"
   },
   {
    "duration": 0,
    "start_time": "2024-12-24T15:22:48.361Z"
   },
   {
    "duration": 0,
    "start_time": "2024-12-24T15:22:48.362Z"
   },
   {
    "duration": 0,
    "start_time": "2024-12-24T15:22:48.363Z"
   },
   {
    "duration": 86555,
    "start_time": "2024-12-24T15:30:54.553Z"
   },
   {
    "duration": 340,
    "start_time": "2024-12-24T15:33:58.241Z"
   },
   {
    "duration": 37,
    "start_time": "2024-12-24T15:33:58.583Z"
   },
   {
    "duration": 11,
    "start_time": "2024-12-24T15:33:58.621Z"
   },
   {
    "duration": 13,
    "start_time": "2024-12-24T15:33:58.634Z"
   },
   {
    "duration": 7,
    "start_time": "2024-12-24T15:33:58.649Z"
   },
   {
    "duration": 11,
    "start_time": "2024-12-24T15:33:58.658Z"
   },
   {
    "duration": 54,
    "start_time": "2024-12-24T15:33:58.671Z"
   },
   {
    "duration": 12,
    "start_time": "2024-12-24T15:33:58.727Z"
   },
   {
    "duration": 13,
    "start_time": "2024-12-24T15:33:58.741Z"
   },
   {
    "duration": 18,
    "start_time": "2024-12-24T15:33:58.757Z"
   },
   {
    "duration": 4,
    "start_time": "2024-12-24T15:33:58.776Z"
   },
   {
    "duration": 43,
    "start_time": "2024-12-24T15:33:58.781Z"
   },
   {
    "duration": 566,
    "start_time": "2024-12-24T15:33:58.827Z"
   },
   {
    "duration": 85745,
    "start_time": "2024-12-24T15:33:59.395Z"
   },
   {
    "duration": 272,
    "start_time": "2024-12-24T15:35:25.143Z"
   },
   {
    "duration": 172,
    "start_time": "2024-12-24T15:35:25.417Z"
   },
   {
    "duration": 13,
    "start_time": "2024-12-24T15:35:25.590Z"
   },
   {
    "duration": 27,
    "start_time": "2024-12-24T15:35:25.606Z"
   },
   {
    "duration": 744,
    "start_time": "2024-12-24T15:35:25.635Z"
   },
   {
    "duration": 36,
    "start_time": "2024-12-24T15:36:31.218Z"
   },
   {
    "duration": 8,
    "start_time": "2024-12-24T15:43:20.465Z"
   },
   {
    "duration": 9,
    "start_time": "2024-12-24T15:53:42.163Z"
   },
   {
    "duration": 21,
    "start_time": "2024-12-24T15:55:56.338Z"
   },
   {
    "duration": 351,
    "start_time": "2024-12-24T15:57:22.945Z"
   },
   {
    "duration": 36,
    "start_time": "2024-12-24T15:57:23.298Z"
   },
   {
    "duration": 11,
    "start_time": "2024-12-24T15:57:23.336Z"
   },
   {
    "duration": 13,
    "start_time": "2024-12-24T15:57:23.349Z"
   },
   {
    "duration": 7,
    "start_time": "2024-12-24T15:57:23.363Z"
   },
   {
    "duration": 12,
    "start_time": "2024-12-24T15:57:23.371Z"
   },
   {
    "duration": 42,
    "start_time": "2024-12-24T15:57:23.384Z"
   },
   {
    "duration": 13,
    "start_time": "2024-12-24T15:57:23.428Z"
   },
   {
    "duration": 13,
    "start_time": "2024-12-24T15:57:23.443Z"
   },
   {
    "duration": 21,
    "start_time": "2024-12-24T15:57:23.459Z"
   },
   {
    "duration": 30,
    "start_time": "2024-12-24T15:57:23.482Z"
   },
   {
    "duration": 15,
    "start_time": "2024-12-24T15:57:23.514Z"
   },
   {
    "duration": 603,
    "start_time": "2024-12-24T15:57:23.530Z"
   },
   {
    "duration": 85581,
    "start_time": "2024-12-24T15:57:24.135Z"
   },
   {
    "duration": 299,
    "start_time": "2024-12-24T15:58:49.718Z"
   },
   {
    "duration": 170,
    "start_time": "2024-12-24T15:58:50.020Z"
   },
   {
    "duration": 20,
    "start_time": "2024-12-24T15:58:50.192Z"
   },
   {
    "duration": 24,
    "start_time": "2024-12-24T15:58:50.214Z"
   },
   {
    "duration": 8,
    "start_time": "2024-12-24T15:58:50.239Z"
   },
   {
    "duration": 234,
    "start_time": "2024-12-24T15:58:50.249Z"
   },
   {
    "duration": 11221,
    "start_time": "2024-12-24T17:17:11.591Z"
   },
   {
    "duration": 1623,
    "start_time": "2024-12-24T17:19:16.505Z"
   },
   {
    "duration": 190,
    "start_time": "2024-12-24T17:19:39.843Z"
   },
   {
    "duration": 402,
    "start_time": "2024-12-24T17:21:15.737Z"
   },
   {
    "duration": 37,
    "start_time": "2024-12-24T17:21:16.141Z"
   },
   {
    "duration": 11,
    "start_time": "2024-12-24T17:21:16.180Z"
   },
   {
    "duration": 14,
    "start_time": "2024-12-24T17:21:16.193Z"
   },
   {
    "duration": 9,
    "start_time": "2024-12-24T17:21:16.209Z"
   },
   {
    "duration": 26,
    "start_time": "2024-12-24T17:21:16.220Z"
   },
   {
    "duration": 18,
    "start_time": "2024-12-24T17:21:16.248Z"
   },
   {
    "duration": 13,
    "start_time": "2024-12-24T17:21:16.268Z"
   },
   {
    "duration": 37,
    "start_time": "2024-12-24T17:21:16.282Z"
   },
   {
    "duration": 27,
    "start_time": "2024-12-24T17:21:16.321Z"
   },
   {
    "duration": 5,
    "start_time": "2024-12-24T17:21:16.350Z"
   },
   {
    "duration": 15,
    "start_time": "2024-12-24T17:21:16.356Z"
   },
   {
    "duration": 2802,
    "start_time": "2024-12-24T17:21:16.373Z"
   },
   {
    "duration": 99511,
    "start_time": "2024-12-24T17:21:19.179Z"
   },
   {
    "duration": 290,
    "start_time": "2024-12-24T17:22:58.692Z"
   },
   {
    "duration": 207,
    "start_time": "2024-12-24T17:22:58.983Z"
   },
   {
    "duration": 14,
    "start_time": "2024-12-24T17:22:59.192Z"
   },
   {
    "duration": 42,
    "start_time": "2024-12-24T17:22:59.208Z"
   },
   {
    "duration": 7,
    "start_time": "2024-12-24T17:22:59.252Z"
   },
   {
    "duration": 1673,
    "start_time": "2024-12-24T17:22:59.261Z"
   },
   {
    "duration": 264,
    "start_time": "2024-12-24T17:23:00.936Z"
   },
   {
    "duration": 1600,
    "start_time": "2024-12-24T17:25:27.795Z"
   },
   {
    "duration": 24,
    "start_time": "2024-12-24T17:25:48.637Z"
   },
   {
    "duration": 358,
    "start_time": "2024-12-24T17:26:24.534Z"
   },
   {
    "duration": 43927,
    "start_time": "2024-12-24T18:01:40.325Z"
   },
   {
    "duration": 782,
    "start_time": "2024-12-24T20:28:47.590Z"
   },
   {
    "duration": 347,
    "start_time": "2024-12-24T20:29:07.212Z"
   },
   {
    "duration": 38,
    "start_time": "2024-12-24T20:29:07.561Z"
   },
   {
    "duration": 11,
    "start_time": "2024-12-24T20:29:07.601Z"
   },
   {
    "duration": 15,
    "start_time": "2024-12-24T20:29:07.614Z"
   },
   {
    "duration": 8,
    "start_time": "2024-12-24T20:29:07.630Z"
   },
   {
    "duration": 12,
    "start_time": "2024-12-24T20:29:07.640Z"
   },
   {
    "duration": 17,
    "start_time": "2024-12-24T20:29:07.654Z"
   },
   {
    "duration": 13,
    "start_time": "2024-12-24T20:29:07.672Z"
   },
   {
    "duration": 47,
    "start_time": "2024-12-24T20:29:07.687Z"
   },
   {
    "duration": 19,
    "start_time": "2024-12-24T20:29:07.736Z"
   },
   {
    "duration": 4,
    "start_time": "2024-12-24T20:29:07.757Z"
   },
   {
    "duration": 14,
    "start_time": "2024-12-24T20:29:07.762Z"
   },
   {
    "duration": 2356,
    "start_time": "2024-12-24T20:29:07.778Z"
   },
   {
    "duration": 87137,
    "start_time": "2024-12-24T20:29:10.136Z"
   },
   {
    "duration": 255,
    "start_time": "2024-12-24T20:30:37.275Z"
   },
   {
    "duration": 172,
    "start_time": "2024-12-24T20:30:37.532Z"
   },
   {
    "duration": 13,
    "start_time": "2024-12-24T20:30:37.705Z"
   },
   {
    "duration": 28,
    "start_time": "2024-12-24T20:30:37.724Z"
   },
   {
    "duration": 7,
    "start_time": "2024-12-24T20:30:37.754Z"
   },
   {
    "duration": 4,
    "start_time": "2024-12-24T20:30:37.763Z"
   },
   {
    "duration": 650,
    "start_time": "2024-12-24T20:47:18.410Z"
   },
   {
    "duration": 5,
    "start_time": "2024-12-24T21:03:10.407Z"
   },
   {
    "duration": 5,
    "start_time": "2024-12-24T21:05:25.002Z"
   },
   {
    "duration": 4,
    "start_time": "2024-12-24T21:06:03.999Z"
   },
   {
    "duration": 3,
    "start_time": "2024-12-24T21:06:48.959Z"
   },
   {
    "duration": 3,
    "start_time": "2024-12-24T21:07:29.272Z"
   },
   {
    "duration": 5,
    "start_time": "2024-12-24T21:08:07.519Z"
   },
   {
    "duration": 38868,
    "start_time": "2024-12-24T21:08:10.895Z"
   },
   {
    "duration": 14,
    "start_time": "2024-12-24T21:11:01.938Z"
   },
   {
    "duration": 4,
    "start_time": "2024-12-24T21:11:30.679Z"
   },
   {
    "duration": 4,
    "start_time": "2024-12-24T21:12:15.403Z"
   },
   {
    "duration": 6,
    "start_time": "2024-12-24T21:12:35.349Z"
   },
   {
    "duration": 228,
    "start_time": "2024-12-24T21:13:36.342Z"
   },
   {
    "duration": 127,
    "start_time": "2024-12-24T21:14:08.165Z"
   },
   {
    "duration": 415,
    "start_time": "2024-12-25T13:18:00.506Z"
   },
   {
    "duration": 41,
    "start_time": "2024-12-25T13:18:00.923Z"
   },
   {
    "duration": 12,
    "start_time": "2024-12-25T13:18:00.966Z"
   },
   {
    "duration": 14,
    "start_time": "2024-12-25T13:18:00.980Z"
   },
   {
    "duration": 8,
    "start_time": "2024-12-25T13:18:00.996Z"
   },
   {
    "duration": 15,
    "start_time": "2024-12-25T13:18:01.006Z"
   },
   {
    "duration": 56,
    "start_time": "2024-12-25T13:18:01.023Z"
   },
   {
    "duration": 18,
    "start_time": "2024-12-25T13:18:01.080Z"
   },
   {
    "duration": 15,
    "start_time": "2024-12-25T13:18:01.100Z"
   },
   {
    "duration": 20,
    "start_time": "2024-12-25T13:18:01.119Z"
   },
   {
    "duration": 4,
    "start_time": "2024-12-25T13:18:01.142Z"
   },
   {
    "duration": 16,
    "start_time": "2024-12-25T13:18:01.171Z"
   },
   {
    "duration": 2508,
    "start_time": "2024-12-25T13:18:01.189Z"
   },
   {
    "duration": 89656,
    "start_time": "2024-12-25T13:18:03.699Z"
   },
   {
    "duration": 307,
    "start_time": "2024-12-25T13:19:33.357Z"
   },
   {
    "duration": 198,
    "start_time": "2024-12-25T13:19:33.670Z"
   },
   {
    "duration": 26,
    "start_time": "2024-12-25T13:19:33.871Z"
   },
   {
    "duration": 37,
    "start_time": "2024-12-25T13:19:33.899Z"
   },
   {
    "duration": 21,
    "start_time": "2024-12-25T13:19:33.938Z"
   },
   {
    "duration": 6,
    "start_time": "2024-12-25T13:19:33.970Z"
   },
   {
    "duration": 5,
    "start_time": "2024-12-25T13:19:33.978Z"
   },
   {
    "duration": 4,
    "start_time": "2024-12-25T13:19:33.985Z"
   },
   {
    "duration": 3,
    "start_time": "2024-12-25T13:19:33.991Z"
   },
   {
    "duration": 39881,
    "start_time": "2024-12-25T13:19:33.997Z"
   },
   {
    "duration": 16,
    "start_time": "2024-12-25T13:20:13.880Z"
   },
   {
    "duration": 4,
    "start_time": "2024-12-25T13:20:13.898Z"
   },
   {
    "duration": 7,
    "start_time": "2024-12-25T13:20:13.904Z"
   },
   {
    "duration": 264,
    "start_time": "2024-12-25T13:20:13.916Z"
   },
   {
    "duration": 136,
    "start_time": "2024-12-25T13:20:14.184Z"
   },
   {
    "duration": 15,
    "start_time": "2024-12-25T13:50:19.897Z"
   },
   {
    "duration": 14,
    "start_time": "2024-12-25T13:57:59.007Z"
   },
   {
    "duration": 226,
    "start_time": "2024-12-25T13:58:00.564Z"
   },
   {
    "duration": 4,
    "start_time": "2024-12-25T13:59:16.475Z"
   },
   {
    "duration": 7,
    "start_time": "2024-12-25T13:59:27.969Z"
   },
   {
    "duration": 189,
    "start_time": "2024-12-25T13:59:34.327Z"
   },
   {
    "duration": 121,
    "start_time": "2024-12-25T13:59:47.825Z"
   },
   {
    "duration": 15,
    "start_time": "2024-12-25T14:05:14.614Z"
   },
   {
    "duration": 27135,
    "start_time": "2024-12-25T14:05:47.669Z"
   },
   {
    "duration": 8,
    "start_time": "2024-12-25T14:07:20.593Z"
   },
   {
    "duration": 3247,
    "start_time": "2024-12-25T15:09:38.038Z"
   },
   {
    "duration": 992,
    "start_time": "2024-12-25T15:31:55.415Z"
   },
   {
    "duration": 35,
    "start_time": "2024-12-25T15:31:56.409Z"
   },
   {
    "duration": 35,
    "start_time": "2024-12-25T15:31:56.446Z"
   },
   {
    "duration": 11,
    "start_time": "2024-12-25T15:31:56.483Z"
   },
   {
    "duration": 13,
    "start_time": "2024-12-25T15:31:56.496Z"
   },
   {
    "duration": 7,
    "start_time": "2024-12-25T15:31:56.511Z"
   },
   {
    "duration": 13,
    "start_time": "2024-12-25T15:31:56.520Z"
   },
   {
    "duration": 53,
    "start_time": "2024-12-25T15:31:56.535Z"
   },
   {
    "duration": 14,
    "start_time": "2024-12-25T15:31:56.590Z"
   },
   {
    "duration": 13,
    "start_time": "2024-12-25T15:31:56.606Z"
   },
   {
    "duration": 17,
    "start_time": "2024-12-25T15:31:56.621Z"
   },
   {
    "duration": 30,
    "start_time": "2024-12-25T15:31:56.640Z"
   },
   {
    "duration": 15,
    "start_time": "2024-12-25T15:31:56.672Z"
   },
   {
    "duration": 106,
    "start_time": "2024-12-25T15:31:56.691Z"
   },
   {
    "duration": 88181,
    "start_time": "2024-12-25T15:31:56.799Z"
   },
   {
    "duration": 324,
    "start_time": "2024-12-25T15:33:24.982Z"
   },
   {
    "duration": 53,
    "start_time": "2024-12-25T15:33:25.309Z"
   },
   {
    "duration": 18,
    "start_time": "2024-12-25T15:33:25.370Z"
   },
   {
    "duration": 33,
    "start_time": "2024-12-25T15:33:25.391Z"
   },
   {
    "duration": 12,
    "start_time": "2024-12-25T15:33:25.426Z"
   },
   {
    "duration": 4,
    "start_time": "2024-12-25T15:33:25.442Z"
   },
   {
    "duration": 5,
    "start_time": "2024-12-25T15:33:25.469Z"
   },
   {
    "duration": 4,
    "start_time": "2024-12-25T15:33:25.476Z"
   },
   {
    "duration": 4,
    "start_time": "2024-12-25T15:33:25.481Z"
   },
   {
    "duration": 40947,
    "start_time": "2024-12-25T15:33:25.487Z"
   },
   {
    "duration": 16,
    "start_time": "2024-12-25T15:34:06.436Z"
   },
   {
    "duration": 19,
    "start_time": "2024-12-25T15:34:06.454Z"
   },
   {
    "duration": 8,
    "start_time": "2024-12-25T15:34:06.475Z"
   },
   {
    "duration": 262,
    "start_time": "2024-12-25T15:34:06.484Z"
   },
   {
    "duration": 150,
    "start_time": "2024-12-25T15:34:06.748Z"
   },
   {
    "duration": 16,
    "start_time": "2024-12-25T15:34:06.900Z"
   },
   {
    "duration": 4,
    "start_time": "2024-12-25T15:34:06.918Z"
   },
   {
    "duration": 8,
    "start_time": "2024-12-25T15:34:06.925Z"
   },
   {
    "duration": 296,
    "start_time": "2024-12-25T15:34:06.935Z"
   },
   {
    "duration": 143,
    "start_time": "2024-12-25T15:34:07.233Z"
   },
   {
    "duration": 28015,
    "start_time": "2024-12-25T15:34:07.378Z"
   },
   {
    "duration": 11,
    "start_time": "2024-12-25T15:34:35.395Z"
   },
   {
    "duration": 2880,
    "start_time": "2024-12-25T15:34:35.407Z"
   },
   {
    "duration": 2643,
    "start_time": "2024-12-25T17:39:15.140Z"
   },
   {
    "duration": 66,
    "start_time": "2024-12-25T17:39:17.785Z"
   },
   {
    "duration": 36,
    "start_time": "2024-12-25T17:39:17.852Z"
   },
   {
    "duration": 11,
    "start_time": "2024-12-25T17:39:17.890Z"
   },
   {
    "duration": 14,
    "start_time": "2024-12-25T17:39:17.903Z"
   },
   {
    "duration": 7,
    "start_time": "2024-12-25T17:39:17.918Z"
   },
   {
    "duration": 12,
    "start_time": "2024-12-25T17:39:17.928Z"
   },
   {
    "duration": 17,
    "start_time": "2024-12-25T17:39:17.941Z"
   },
   {
    "duration": 13,
    "start_time": "2024-12-25T17:39:17.959Z"
   },
   {
    "duration": 33,
    "start_time": "2024-12-25T17:39:17.975Z"
   },
   {
    "duration": 17,
    "start_time": "2024-12-25T17:39:18.009Z"
   },
   {
    "duration": 3,
    "start_time": "2024-12-25T17:39:18.028Z"
   },
   {
    "duration": 14,
    "start_time": "2024-12-25T17:39:18.033Z"
   },
   {
    "duration": 111,
    "start_time": "2024-12-25T17:39:18.050Z"
   },
   {
    "duration": 86879,
    "start_time": "2024-12-25T17:39:18.163Z"
   },
   {
    "duration": 261,
    "start_time": "2024-12-25T17:40:45.044Z"
   },
   {
    "duration": 37,
    "start_time": "2024-12-25T17:40:45.307Z"
   },
   {
    "duration": 12,
    "start_time": "2024-12-25T17:40:45.346Z"
   },
   {
    "duration": 24,
    "start_time": "2024-12-25T17:40:45.359Z"
   },
   {
    "duration": 26,
    "start_time": "2024-12-25T17:40:45.384Z"
   },
   {
    "duration": 4,
    "start_time": "2024-12-25T17:40:45.412Z"
   },
   {
    "duration": 4,
    "start_time": "2024-12-25T17:40:45.418Z"
   },
   {
    "duration": 3,
    "start_time": "2024-12-25T17:40:45.424Z"
   },
   {
    "duration": 4,
    "start_time": "2024-12-25T17:40:45.428Z"
   },
   {
    "duration": 38675,
    "start_time": "2024-12-25T17:40:45.434Z"
   },
   {
    "duration": 14,
    "start_time": "2024-12-25T17:41:24.111Z"
   },
   {
    "duration": 3,
    "start_time": "2024-12-25T17:41:24.127Z"
   },
   {
    "duration": 8,
    "start_time": "2024-12-25T17:41:24.132Z"
   },
   {
    "duration": 221,
    "start_time": "2024-12-25T17:41:24.143Z"
   },
   {
    "duration": 132,
    "start_time": "2024-12-25T17:41:24.366Z"
   },
   {
    "duration": 17,
    "start_time": "2024-12-25T17:41:24.504Z"
   },
   {
    "duration": 4,
    "start_time": "2024-12-25T17:41:24.522Z"
   },
   {
    "duration": 6,
    "start_time": "2024-12-25T17:41:24.528Z"
   },
   {
    "duration": 231,
    "start_time": "2024-12-25T17:41:24.536Z"
   },
   {
    "duration": 136,
    "start_time": "2024-12-25T17:41:24.769Z"
   },
   {
    "duration": 27244,
    "start_time": "2024-12-25T17:41:24.907Z"
   },
   {
    "duration": 9,
    "start_time": "2024-12-25T17:41:52.153Z"
   },
   {
    "duration": 3463,
    "start_time": "2024-12-25T17:41:52.164Z"
   },
   {
    "duration": 1011,
    "start_time": "2024-12-25T19:37:07.984Z"
   },
   {
    "duration": 35,
    "start_time": "2024-12-25T19:37:08.997Z"
   },
   {
    "duration": 35,
    "start_time": "2024-12-25T19:37:09.034Z"
   },
   {
    "duration": 10,
    "start_time": "2024-12-25T19:37:09.071Z"
   },
   {
    "duration": 30,
    "start_time": "2024-12-25T19:37:09.082Z"
   },
   {
    "duration": 8,
    "start_time": "2024-12-25T19:37:09.113Z"
   },
   {
    "duration": 12,
    "start_time": "2024-12-25T19:37:09.122Z"
   },
   {
    "duration": 17,
    "start_time": "2024-12-25T19:37:09.136Z"
   },
   {
    "duration": 13,
    "start_time": "2024-12-25T19:37:09.154Z"
   },
   {
    "duration": 42,
    "start_time": "2024-12-25T19:37:09.171Z"
   },
   {
    "duration": 18,
    "start_time": "2024-12-25T19:37:09.214Z"
   },
   {
    "duration": 4,
    "start_time": "2024-12-25T19:37:09.233Z"
   },
   {
    "duration": 14,
    "start_time": "2024-12-25T19:37:09.238Z"
   },
   {
    "duration": 120,
    "start_time": "2024-12-25T19:37:09.254Z"
   },
   {
    "duration": 85606,
    "start_time": "2024-12-25T19:37:09.375Z"
   },
   {
    "duration": 258,
    "start_time": "2024-12-25T19:38:34.983Z"
   },
   {
    "duration": 38,
    "start_time": "2024-12-25T19:38:35.243Z"
   },
   {
    "duration": 24,
    "start_time": "2024-12-25T19:38:35.283Z"
   },
   {
    "duration": 23,
    "start_time": "2024-12-25T19:38:35.309Z"
   },
   {
    "duration": 7,
    "start_time": "2024-12-25T19:38:35.334Z"
   },
   {
    "duration": 4,
    "start_time": "2024-12-25T19:38:35.344Z"
   },
   {
    "duration": 4,
    "start_time": "2024-12-25T19:38:35.349Z"
   },
   {
    "duration": 3,
    "start_time": "2024-12-25T19:38:35.355Z"
   },
   {
    "duration": 4,
    "start_time": "2024-12-25T19:38:35.359Z"
   },
   {
    "duration": 38416,
    "start_time": "2024-12-25T19:38:35.364Z"
   },
   {
    "duration": 25,
    "start_time": "2024-12-25T19:39:13.781Z"
   },
   {
    "duration": 7,
    "start_time": "2024-12-25T19:39:13.807Z"
   },
   {
    "duration": 242,
    "start_time": "2024-12-25T19:39:13.818Z"
   },
   {
    "duration": 137,
    "start_time": "2024-12-25T19:39:14.062Z"
   },
   {
    "duration": 14,
    "start_time": "2024-12-25T19:39:14.204Z"
   },
   {
    "duration": 4,
    "start_time": "2024-12-25T19:39:14.220Z"
   },
   {
    "duration": 7,
    "start_time": "2024-12-25T19:39:14.225Z"
   },
   {
    "duration": 229,
    "start_time": "2024-12-25T19:39:14.234Z"
   },
   {
    "duration": 134,
    "start_time": "2024-12-25T19:39:14.464Z"
   },
   {
    "duration": 27195,
    "start_time": "2024-12-25T19:39:14.600Z"
   },
   {
    "duration": 15,
    "start_time": "2024-12-25T19:39:41.796Z"
   },
   {
    "duration": 3519,
    "start_time": "2024-12-25T19:39:41.812Z"
   },
   {
    "duration": 2804,
    "start_time": "2024-12-26T14:34:28.245Z"
   },
   {
    "duration": 70,
    "start_time": "2024-12-26T14:34:31.052Z"
   },
   {
    "duration": 50,
    "start_time": "2024-12-26T14:34:31.124Z"
   },
   {
    "duration": 11,
    "start_time": "2024-12-26T14:34:31.176Z"
   },
   {
    "duration": 14,
    "start_time": "2024-12-26T14:34:31.191Z"
   },
   {
    "duration": 25,
    "start_time": "2024-12-26T14:34:31.206Z"
   },
   {
    "duration": 13,
    "start_time": "2024-12-26T14:34:31.234Z"
   },
   {
    "duration": 22,
    "start_time": "2024-12-26T14:34:31.249Z"
   },
   {
    "duration": 16,
    "start_time": "2024-12-26T14:34:31.272Z"
   },
   {
    "duration": 40,
    "start_time": "2024-12-26T14:34:31.290Z"
   },
   {
    "duration": 21,
    "start_time": "2024-12-26T14:34:31.332Z"
   },
   {
    "duration": 4,
    "start_time": "2024-12-26T14:34:31.355Z"
   },
   {
    "duration": 17,
    "start_time": "2024-12-26T14:34:31.361Z"
   },
   {
    "duration": 179,
    "start_time": "2024-12-26T14:34:31.382Z"
   },
   {
    "duration": 89301,
    "start_time": "2024-12-26T14:34:31.563Z"
   },
   {
    "duration": 276,
    "start_time": "2024-12-26T14:36:00.865Z"
   },
   {
    "duration": 55,
    "start_time": "2024-12-26T14:36:01.143Z"
   },
   {
    "duration": 13,
    "start_time": "2024-12-26T14:36:01.200Z"
   },
   {
    "duration": 47,
    "start_time": "2024-12-26T14:36:01.215Z"
   },
   {
    "duration": 9,
    "start_time": "2024-12-26T14:36:01.264Z"
   },
   {
    "duration": 4,
    "start_time": "2024-12-26T14:36:01.275Z"
   },
   {
    "duration": 4,
    "start_time": "2024-12-26T14:36:01.281Z"
   },
   {
    "duration": 3,
    "start_time": "2024-12-26T14:36:01.287Z"
   },
   {
    "duration": 4,
    "start_time": "2024-12-26T14:36:01.292Z"
   },
   {
    "duration": 39333,
    "start_time": "2024-12-26T14:36:01.299Z"
   },
   {
    "duration": 18,
    "start_time": "2024-12-26T14:36:40.634Z"
   },
   {
    "duration": 7,
    "start_time": "2024-12-26T14:36:40.654Z"
   },
   {
    "duration": 239,
    "start_time": "2024-12-26T14:36:40.663Z"
   },
   {
    "duration": 140,
    "start_time": "2024-12-26T14:36:40.904Z"
   },
   {
    "duration": 16,
    "start_time": "2024-12-26T14:36:41.045Z"
   },
   {
    "duration": 4,
    "start_time": "2024-12-26T14:36:41.063Z"
   },
   {
    "duration": 8,
    "start_time": "2024-12-26T14:36:41.070Z"
   },
   {
    "duration": 259,
    "start_time": "2024-12-26T14:36:41.080Z"
   },
   {
    "duration": 140,
    "start_time": "2024-12-26T14:36:41.341Z"
   },
   {
    "duration": 27653,
    "start_time": "2024-12-26T14:36:41.483Z"
   },
   {
    "duration": 9,
    "start_time": "2024-12-26T14:37:09.139Z"
   },
   {
    "duration": 3592,
    "start_time": "2024-12-26T14:37:09.151Z"
   },
   {
    "duration": 2612,
    "start_time": "2024-12-26T18:56:37.879Z"
   },
   {
    "duration": 65,
    "start_time": "2024-12-26T18:56:40.494Z"
   },
   {
    "duration": 35,
    "start_time": "2024-12-26T18:56:40.560Z"
   },
   {
    "duration": 10,
    "start_time": "2024-12-26T18:56:40.598Z"
   },
   {
    "duration": 14,
    "start_time": "2024-12-26T18:56:40.610Z"
   },
   {
    "duration": 7,
    "start_time": "2024-12-26T18:56:40.625Z"
   },
   {
    "duration": 11,
    "start_time": "2024-12-26T18:56:40.634Z"
   },
   {
    "duration": 17,
    "start_time": "2024-12-26T18:56:40.647Z"
   },
   {
    "duration": 13,
    "start_time": "2024-12-26T18:56:40.665Z"
   },
   {
    "duration": 13,
    "start_time": "2024-12-26T18:56:40.710Z"
   },
   {
    "duration": 17,
    "start_time": "2024-12-26T18:56:40.725Z"
   },
   {
    "duration": 4,
    "start_time": "2024-12-26T18:56:40.743Z"
   },
   {
    "duration": 14,
    "start_time": "2024-12-26T18:56:40.749Z"
   },
   {
    "duration": 174,
    "start_time": "2024-12-26T18:56:40.765Z"
   },
   {
    "duration": 86289,
    "start_time": "2024-12-26T18:56:40.941Z"
   },
   {
    "duration": 282,
    "start_time": "2024-12-26T18:58:07.231Z"
   },
   {
    "duration": 41,
    "start_time": "2024-12-26T18:58:07.515Z"
   },
   {
    "duration": 14,
    "start_time": "2024-12-26T18:58:07.558Z"
   },
   {
    "duration": 42,
    "start_time": "2024-12-26T18:58:07.573Z"
   },
   {
    "duration": 9,
    "start_time": "2024-12-26T18:58:07.617Z"
   },
   {
    "duration": 4,
    "start_time": "2024-12-26T18:58:07.628Z"
   },
   {
    "duration": 3,
    "start_time": "2024-12-26T18:58:07.633Z"
   },
   {
    "duration": 3,
    "start_time": "2024-12-26T18:58:07.638Z"
   },
   {
    "duration": 4,
    "start_time": "2024-12-26T18:58:07.643Z"
   },
   {
    "duration": 38623,
    "start_time": "2024-12-26T18:58:07.649Z"
   },
   {
    "duration": 17,
    "start_time": "2024-12-26T18:58:46.274Z"
   },
   {
    "duration": 18,
    "start_time": "2024-12-26T18:58:46.293Z"
   },
   {
    "duration": 235,
    "start_time": "2024-12-26T18:58:46.316Z"
   },
   {
    "duration": 132,
    "start_time": "2024-12-26T18:58:46.553Z"
   },
   {
    "duration": 27,
    "start_time": "2024-12-26T18:58:46.686Z"
   },
   {
    "duration": 3,
    "start_time": "2024-12-26T18:58:46.715Z"
   },
   {
    "duration": 6,
    "start_time": "2024-12-26T18:58:46.720Z"
   },
   {
    "duration": 232,
    "start_time": "2024-12-26T18:58:46.727Z"
   },
   {
    "duration": 129,
    "start_time": "2024-12-26T18:58:46.960Z"
   },
   {
    "duration": 27193,
    "start_time": "2024-12-26T18:58:47.091Z"
   },
   {
    "duration": 9,
    "start_time": "2024-12-26T18:59:14.286Z"
   },
   {
    "duration": 3745,
    "start_time": "2024-12-26T18:59:14.297Z"
   },
   {
    "duration": 3157,
    "start_time": "2024-12-26T19:01:29.170Z"
   },
   {
    "duration": 3281,
    "start_time": "2024-12-26T19:03:16.050Z"
   },
   {
    "duration": 3205,
    "start_time": "2024-12-26T19:06:39.004Z"
   },
   {
    "duration": 18,
    "start_time": "2024-12-26T19:11:15.829Z"
   },
   {
    "duration": 18,
    "start_time": "2024-12-26T19:12:20.584Z"
   },
   {
    "duration": 18,
    "start_time": "2024-12-26T19:12:40.095Z"
   },
   {
    "duration": 18,
    "start_time": "2024-12-26T19:14:13.019Z"
   },
   {
    "duration": 19,
    "start_time": "2024-12-26T19:15:22.279Z"
   },
   {
    "duration": 18,
    "start_time": "2024-12-26T19:19:42.485Z"
   },
   {
    "duration": 19,
    "start_time": "2024-12-26T19:31:24.961Z"
   },
   {
    "duration": 18,
    "start_time": "2024-12-26T19:31:44.824Z"
   },
   {
    "duration": 19,
    "start_time": "2024-12-26T19:38:35.721Z"
   },
   {
    "duration": 17,
    "start_time": "2024-12-26T19:46:18.483Z"
   },
   {
    "duration": 18,
    "start_time": "2024-12-26T19:48:26.495Z"
   },
   {
    "duration": 18,
    "start_time": "2024-12-26T19:49:39.090Z"
   },
   {
    "duration": 9,
    "start_time": "2024-12-26T19:52:42.938Z"
   },
   {
    "duration": 1024,
    "start_time": "2024-12-26T19:59:13.863Z"
   },
   {
    "duration": 37,
    "start_time": "2024-12-26T19:59:14.889Z"
   },
   {
    "duration": 35,
    "start_time": "2024-12-26T19:59:14.928Z"
   },
   {
    "duration": 12,
    "start_time": "2024-12-26T19:59:14.965Z"
   },
   {
    "duration": 16,
    "start_time": "2024-12-26T19:59:14.978Z"
   },
   {
    "duration": 20,
    "start_time": "2024-12-26T19:59:14.995Z"
   },
   {
    "duration": 11,
    "start_time": "2024-12-26T19:59:15.017Z"
   },
   {
    "duration": 17,
    "start_time": "2024-12-26T19:59:15.030Z"
   },
   {
    "duration": 13,
    "start_time": "2024-12-26T19:59:15.049Z"
   },
   {
    "duration": 43,
    "start_time": "2024-12-26T19:59:15.066Z"
   },
   {
    "duration": 18,
    "start_time": "2024-12-26T19:59:15.110Z"
   },
   {
    "duration": 4,
    "start_time": "2024-12-26T19:59:15.130Z"
   },
   {
    "duration": 14,
    "start_time": "2024-12-26T19:59:15.136Z"
   },
   {
    "duration": 115,
    "start_time": "2024-12-26T19:59:15.152Z"
   },
   {
    "duration": 87644,
    "start_time": "2024-12-26T19:59:15.269Z"
   },
   {
    "duration": 284,
    "start_time": "2024-12-26T20:00:42.915Z"
   },
   {
    "duration": 39,
    "start_time": "2024-12-26T20:00:43.208Z"
   },
   {
    "duration": 12,
    "start_time": "2024-12-26T20:00:43.249Z"
   },
   {
    "duration": 23,
    "start_time": "2024-12-26T20:00:43.262Z"
   },
   {
    "duration": 24,
    "start_time": "2024-12-26T20:00:43.287Z"
   },
   {
    "duration": 4,
    "start_time": "2024-12-26T20:00:43.313Z"
   },
   {
    "duration": 3,
    "start_time": "2024-12-26T20:00:43.319Z"
   },
   {
    "duration": 4,
    "start_time": "2024-12-26T20:00:43.323Z"
   },
   {
    "duration": 4,
    "start_time": "2024-12-26T20:00:43.328Z"
   },
   {
    "duration": 38650,
    "start_time": "2024-12-26T20:00:43.333Z"
   },
   {
    "duration": 26,
    "start_time": "2024-12-26T20:01:21.985Z"
   },
   {
    "duration": 244,
    "start_time": "2024-12-26T20:01:22.013Z"
   },
   {
    "duration": 130,
    "start_time": "2024-12-26T20:01:22.261Z"
   },
   {
    "duration": 26,
    "start_time": "2024-12-26T20:01:22.393Z"
   },
   {
    "duration": 233,
    "start_time": "2024-12-26T20:01:22.421Z"
   },
   {
    "duration": 131,
    "start_time": "2024-12-26T20:01:22.656Z"
   },
   {
    "duration": 27394,
    "start_time": "2024-12-26T20:01:22.789Z"
   },
   {
    "duration": 9,
    "start_time": "2024-12-26T20:01:50.184Z"
   },
   {
    "duration": 3235,
    "start_time": "2024-12-26T20:01:50.195Z"
   },
   {
    "duration": 3288,
    "start_time": "2024-12-26T20:01:53.432Z"
   },
   {
    "duration": 2974,
    "start_time": "2024-12-26T20:02:41.252Z"
   },
   {
    "duration": 3247,
    "start_time": "2024-12-26T20:06:35.477Z"
   },
   {
    "duration": 3174,
    "start_time": "2024-12-26T21:05:48.243Z"
   },
   {
    "duration": 1000,
    "start_time": "2024-12-26T21:16:19.681Z"
   },
   {
    "duration": 41,
    "start_time": "2024-12-26T21:16:20.684Z"
   },
   {
    "duration": 34,
    "start_time": "2024-12-26T21:16:20.727Z"
   },
   {
    "duration": 11,
    "start_time": "2024-12-26T21:16:20.763Z"
   },
   {
    "duration": 13,
    "start_time": "2024-12-26T21:16:20.776Z"
   },
   {
    "duration": 21,
    "start_time": "2024-12-26T21:16:20.791Z"
   },
   {
    "duration": 13,
    "start_time": "2024-12-26T21:16:20.814Z"
   },
   {
    "duration": 17,
    "start_time": "2024-12-26T21:16:20.828Z"
   },
   {
    "duration": 12,
    "start_time": "2024-12-26T21:16:20.847Z"
   },
   {
    "duration": 14,
    "start_time": "2024-12-26T21:16:20.860Z"
   },
   {
    "duration": 47,
    "start_time": "2024-12-26T21:16:20.875Z"
   },
   {
    "duration": 3,
    "start_time": "2024-12-26T21:16:20.924Z"
   },
   {
    "duration": 14,
    "start_time": "2024-12-26T21:16:20.929Z"
   },
   {
    "duration": 107,
    "start_time": "2024-12-26T21:16:20.948Z"
   },
   {
    "duration": 87804,
    "start_time": "2024-12-26T21:16:21.057Z"
   },
   {
    "duration": 252,
    "start_time": "2024-12-26T21:17:48.863Z"
   },
   {
    "duration": 38,
    "start_time": "2024-12-26T21:17:49.116Z"
   },
   {
    "duration": 13,
    "start_time": "2024-12-26T21:17:49.155Z"
   },
   {
    "duration": 40,
    "start_time": "2024-12-26T21:17:49.170Z"
   },
   {
    "duration": 8,
    "start_time": "2024-12-26T21:17:49.212Z"
   },
   {
    "duration": 4,
    "start_time": "2024-12-26T21:17:49.222Z"
   },
   {
    "duration": 4,
    "start_time": "2024-12-26T21:17:49.228Z"
   },
   {
    "duration": 3,
    "start_time": "2024-12-26T21:17:49.233Z"
   },
   {
    "duration": 4,
    "start_time": "2024-12-26T21:17:49.238Z"
   },
   {
    "duration": 38683,
    "start_time": "2024-12-26T21:17:49.243Z"
   },
   {
    "duration": 18,
    "start_time": "2024-12-26T21:18:27.928Z"
   },
   {
    "duration": 220,
    "start_time": "2024-12-26T21:18:27.947Z"
   },
   {
    "duration": 134,
    "start_time": "2024-12-26T21:18:28.169Z"
   },
   {
    "duration": 20,
    "start_time": "2024-12-26T21:18:28.305Z"
   },
   {
    "duration": 241,
    "start_time": "2024-12-26T21:18:28.326Z"
   },
   {
    "duration": 130,
    "start_time": "2024-12-26T21:18:28.569Z"
   },
   {
    "duration": 27270,
    "start_time": "2024-12-26T21:18:28.701Z"
   },
   {
    "duration": 9,
    "start_time": "2024-12-26T21:18:55.972Z"
   },
   {
    "duration": 3529,
    "start_time": "2024-12-26T21:18:55.983Z"
   },
   {
    "duration": 3302,
    "start_time": "2024-12-26T21:18:59.514Z"
   },
   {
    "duration": 222,
    "start_time": "2024-12-26T21:51:04.730Z"
   },
   {
    "duration": 125,
    "start_time": "2024-12-26T21:52:12.072Z"
   },
   {
    "duration": 208,
    "start_time": "2024-12-26T21:53:04.340Z"
   },
   {
    "duration": 123,
    "start_time": "2024-12-26T21:53:15.433Z"
   },
   {
    "duration": 203,
    "start_time": "2024-12-26T21:57:57.672Z"
   },
   {
    "duration": 225,
    "start_time": "2024-12-26T22:01:24.931Z"
   },
   {
    "duration": 2748,
    "start_time": "2024-12-27T14:23:39.432Z"
   },
   {
    "duration": 64,
    "start_time": "2024-12-27T14:23:42.182Z"
   },
   {
    "duration": 35,
    "start_time": "2024-12-27T14:23:42.248Z"
   },
   {
    "duration": 11,
    "start_time": "2024-12-27T14:23:42.284Z"
   },
   {
    "duration": 16,
    "start_time": "2024-12-27T14:23:42.297Z"
   },
   {
    "duration": 9,
    "start_time": "2024-12-27T14:23:42.332Z"
   },
   {
    "duration": 12,
    "start_time": "2024-12-27T14:23:42.343Z"
   },
   {
    "duration": 18,
    "start_time": "2024-12-27T14:23:42.356Z"
   },
   {
    "duration": 14,
    "start_time": "2024-12-27T14:23:42.376Z"
   },
   {
    "duration": 43,
    "start_time": "2024-12-27T14:23:42.392Z"
   },
   {
    "duration": 18,
    "start_time": "2024-12-27T14:23:42.437Z"
   },
   {
    "duration": 4,
    "start_time": "2024-12-27T14:23:42.457Z"
   },
   {
    "duration": 15,
    "start_time": "2024-12-27T14:23:42.463Z"
   },
   {
    "duration": 112,
    "start_time": "2024-12-27T14:23:42.482Z"
   },
   {
    "duration": 87689,
    "start_time": "2024-12-27T14:23:42.595Z"
   },
   {
    "duration": 256,
    "start_time": "2024-12-27T14:25:10.286Z"
   },
   {
    "duration": 40,
    "start_time": "2024-12-27T14:25:10.544Z"
   },
   {
    "duration": 13,
    "start_time": "2024-12-27T14:25:10.585Z"
   },
   {
    "duration": 40,
    "start_time": "2024-12-27T14:25:10.600Z"
   },
   {
    "duration": 10,
    "start_time": "2024-12-27T14:25:10.642Z"
   },
   {
    "duration": 6,
    "start_time": "2024-12-27T14:25:10.653Z"
   },
   {
    "duration": 3,
    "start_time": "2024-12-27T14:25:10.660Z"
   },
   {
    "duration": 4,
    "start_time": "2024-12-27T14:25:10.664Z"
   },
   {
    "duration": 3,
    "start_time": "2024-12-27T14:25:10.670Z"
   },
   {
    "duration": 39038,
    "start_time": "2024-12-27T14:25:10.675Z"
   },
   {
    "duration": 27,
    "start_time": "2024-12-27T14:25:49.715Z"
   },
   {
    "duration": 250,
    "start_time": "2024-12-27T14:25:49.743Z"
   },
   {
    "duration": 136,
    "start_time": "2024-12-27T14:25:49.995Z"
   },
   {
    "duration": 19,
    "start_time": "2024-12-27T14:25:50.133Z"
   },
   {
    "duration": 236,
    "start_time": "2024-12-27T14:25:50.153Z"
   },
   {
    "duration": 142,
    "start_time": "2024-12-27T14:25:50.391Z"
   },
   {
    "duration": 27354,
    "start_time": "2024-12-27T14:25:50.535Z"
   },
   {
    "duration": 9,
    "start_time": "2024-12-27T14:26:17.891Z"
   },
   {
    "duration": 3255,
    "start_time": "2024-12-27T14:26:17.901Z"
   },
   {
    "duration": 4,
    "start_time": "2024-12-27T14:28:05.120Z"
   },
   {
    "duration": 10084,
    "start_time": "2024-12-27T14:28:43.912Z"
   },
   {
    "duration": 24271,
    "start_time": "2024-12-27T14:30:16.072Z"
   },
   {
    "duration": 933,
    "start_time": "2024-12-27T14:32:27.910Z"
   },
   {
    "duration": 6,
    "start_time": "2024-12-27T14:50:09.360Z"
   },
   {
    "duration": 501,
    "start_time": "2024-12-27T14:51:11.639Z"
   },
   {
    "duration": 510,
    "start_time": "2024-12-27T14:53:07.448Z"
   },
   {
    "duration": 607,
    "start_time": "2024-12-27T14:54:02.075Z"
   },
   {
    "duration": 7,
    "start_time": "2024-12-27T15:22:21.559Z"
   },
   {
    "duration": 1828,
    "start_time": "2024-12-27T15:22:52.491Z"
   },
   {
    "duration": 17293,
    "start_time": "2024-12-27T15:24:02.248Z"
   },
   {
    "duration": 21334,
    "start_time": "2024-12-27T15:24:54.265Z"
   },
   {
    "duration": 1032,
    "start_time": "2024-12-27T15:28:47.992Z"
   },
   {
    "duration": 40,
    "start_time": "2024-12-27T15:28:49.026Z"
   },
   {
    "duration": 37,
    "start_time": "2024-12-27T15:28:49.068Z"
   },
   {
    "duration": 11,
    "start_time": "2024-12-27T15:28:49.107Z"
   },
   {
    "duration": 23,
    "start_time": "2024-12-27T15:28:49.121Z"
   },
   {
    "duration": 7,
    "start_time": "2024-12-27T15:28:49.146Z"
   },
   {
    "duration": 11,
    "start_time": "2024-12-27T15:28:49.155Z"
   },
   {
    "duration": 18,
    "start_time": "2024-12-27T15:28:49.168Z"
   },
   {
    "duration": 13,
    "start_time": "2024-12-27T15:28:49.188Z"
   },
   {
    "duration": 41,
    "start_time": "2024-12-27T15:28:49.203Z"
   },
   {
    "duration": 19,
    "start_time": "2024-12-27T15:28:49.245Z"
   },
   {
    "duration": 4,
    "start_time": "2024-12-27T15:28:49.266Z"
   },
   {
    "duration": 18,
    "start_time": "2024-12-27T15:28:49.272Z"
   },
   {
    "duration": 119,
    "start_time": "2024-12-27T15:28:49.295Z"
   },
   {
    "duration": 88285,
    "start_time": "2024-12-27T15:28:49.415Z"
   },
   {
    "duration": 262,
    "start_time": "2024-12-27T15:30:17.701Z"
   },
   {
    "duration": 40,
    "start_time": "2024-12-27T15:30:17.964Z"
   },
   {
    "duration": 35,
    "start_time": "2024-12-27T15:30:18.006Z"
   },
   {
    "duration": 25,
    "start_time": "2024-12-27T15:30:18.042Z"
   },
   {
    "duration": 9,
    "start_time": "2024-12-27T15:30:18.069Z"
   },
   {
    "duration": 5,
    "start_time": "2024-12-27T15:30:18.080Z"
   },
   {
    "duration": 5,
    "start_time": "2024-12-27T15:30:18.086Z"
   },
   {
    "duration": 3,
    "start_time": "2024-12-27T15:30:18.092Z"
   },
   {
    "duration": 35,
    "start_time": "2024-12-27T15:30:18.096Z"
   },
   {
    "duration": 10,
    "start_time": "2024-12-27T15:30:18.133Z"
   },
   {
    "duration": 1900,
    "start_time": "2024-12-27T15:30:18.145Z"
   },
   {
    "duration": 17729,
    "start_time": "2024-12-27T15:30:20.047Z"
   },
   {
    "duration": 31763,
    "start_time": "2024-12-27T15:30:37.778Z"
   },
   {
    "duration": 24253,
    "start_time": "2024-12-27T15:31:09.543Z"
   },
   {
    "duration": 0,
    "start_time": "2024-12-27T15:31:33.798Z"
   },
   {
    "duration": 0,
    "start_time": "2024-12-27T15:31:33.800Z"
   },
   {
    "duration": 0,
    "start_time": "2024-12-27T15:31:33.801Z"
   },
   {
    "duration": 0,
    "start_time": "2024-12-27T15:31:33.802Z"
   },
   {
    "duration": 0,
    "start_time": "2024-12-27T15:31:33.804Z"
   },
   {
    "duration": 0,
    "start_time": "2024-12-27T15:31:33.806Z"
   },
   {
    "duration": 0,
    "start_time": "2024-12-27T15:31:33.807Z"
   },
   {
    "duration": 0,
    "start_time": "2024-12-27T15:31:33.809Z"
   },
   {
    "duration": 0,
    "start_time": "2024-12-27T15:31:33.831Z"
   },
   {
    "duration": 0,
    "start_time": "2024-12-27T15:31:33.832Z"
   },
   {
    "duration": 0,
    "start_time": "2024-12-27T15:31:33.833Z"
   },
   {
    "duration": 182,
    "start_time": "2024-12-28T16:27:08.426Z"
   },
   {
    "duration": 2802,
    "start_time": "2024-12-28T16:27:23.149Z"
   },
   {
    "duration": 78,
    "start_time": "2024-12-28T16:27:25.953Z"
   },
   {
    "duration": 51,
    "start_time": "2024-12-28T16:27:26.033Z"
   },
   {
    "duration": 12,
    "start_time": "2024-12-28T16:27:26.086Z"
   },
   {
    "duration": 14,
    "start_time": "2024-12-28T16:27:26.109Z"
   },
   {
    "duration": 7,
    "start_time": "2024-12-28T16:27:26.125Z"
   },
   {
    "duration": 16,
    "start_time": "2024-12-28T16:27:26.134Z"
   },
   {
    "duration": 24,
    "start_time": "2024-12-28T16:27:26.151Z"
   },
   {
    "duration": 42,
    "start_time": "2024-12-28T16:27:26.177Z"
   },
   {
    "duration": 18,
    "start_time": "2024-12-28T16:27:26.223Z"
   },
   {
    "duration": 18,
    "start_time": "2024-12-28T16:27:26.244Z"
   },
   {
    "duration": 5,
    "start_time": "2024-12-28T16:27:26.264Z"
   },
   {
    "duration": 44,
    "start_time": "2024-12-28T16:27:26.270Z"
   },
   {
    "duration": 135,
    "start_time": "2024-12-28T16:27:26.316Z"
   },
   {
    "duration": 89021,
    "start_time": "2024-12-28T16:27:26.454Z"
   },
   {
    "duration": 280,
    "start_time": "2024-12-28T16:28:55.477Z"
   },
   {
    "duration": 64,
    "start_time": "2024-12-28T16:28:55.760Z"
   },
   {
    "duration": 17,
    "start_time": "2024-12-28T16:28:55.826Z"
   },
   {
    "duration": 35,
    "start_time": "2024-12-28T16:28:55.845Z"
   },
   {
    "duration": 10,
    "start_time": "2024-12-28T16:28:55.882Z"
   },
   {
    "duration": 24,
    "start_time": "2024-12-28T16:28:55.895Z"
   },
   {
    "duration": 5,
    "start_time": "2024-12-28T16:28:55.921Z"
   },
   {
    "duration": 4,
    "start_time": "2024-12-28T16:28:55.928Z"
   },
   {
    "duration": 3,
    "start_time": "2024-12-28T16:28:55.935Z"
   },
   {
    "duration": 4,
    "start_time": "2024-12-28T16:28:55.940Z"
   },
   {
    "duration": 8,
    "start_time": "2024-12-28T16:28:55.946Z"
   },
   {
    "duration": 1639,
    "start_time": "2024-12-28T16:28:55.956Z"
   },
   {
    "duration": 17824,
    "start_time": "2024-12-28T16:28:57.599Z"
   },
   {
    "duration": 31925,
    "start_time": "2024-12-28T16:29:15.425Z"
   },
   {
    "duration": 8,
    "start_time": "2024-12-28T16:38:00.069Z"
   },
   {
    "duration": 15,
    "start_time": "2024-12-28T16:38:10.622Z"
   },
   {
    "duration": 17,
    "start_time": "2024-12-28T16:38:38.263Z"
   },
   {
    "duration": 14,
    "start_time": "2024-12-28T16:38:52.894Z"
   },
   {
    "duration": 5,
    "start_time": "2024-12-28T16:38:57.334Z"
   },
   {
    "duration": 4,
    "start_time": "2024-12-28T16:38:59.888Z"
   },
   {
    "duration": 3,
    "start_time": "2024-12-28T16:39:04.221Z"
   },
   {
    "duration": 4,
    "start_time": "2024-12-28T16:39:09.081Z"
   },
   {
    "duration": 7,
    "start_time": "2024-12-28T16:39:13.554Z"
   },
   {
    "duration": 1629,
    "start_time": "2024-12-28T16:39:16.879Z"
   },
   {
    "duration": 25939,
    "start_time": "2024-12-28T16:39:20.675Z"
   },
   {
    "duration": 55625,
    "start_time": "2024-12-28T16:40:42.102Z"
   },
   {
    "duration": 1028,
    "start_time": "2024-12-28T16:42:30.038Z"
   },
   {
    "duration": 38,
    "start_time": "2024-12-28T16:42:31.068Z"
   },
   {
    "duration": 36,
    "start_time": "2024-12-28T16:42:31.108Z"
   },
   {
    "duration": 10,
    "start_time": "2024-12-28T16:42:31.147Z"
   },
   {
    "duration": 14,
    "start_time": "2024-12-28T16:42:31.159Z"
   },
   {
    "duration": 7,
    "start_time": "2024-12-28T16:42:31.175Z"
   },
   {
    "duration": 35,
    "start_time": "2024-12-28T16:42:31.183Z"
   },
   {
    "duration": 18,
    "start_time": "2024-12-28T16:42:31.220Z"
   },
   {
    "duration": 13,
    "start_time": "2024-12-28T16:42:31.240Z"
   },
   {
    "duration": 13,
    "start_time": "2024-12-28T16:42:31.256Z"
   },
   {
    "duration": 47,
    "start_time": "2024-12-28T16:42:31.270Z"
   },
   {
    "duration": 3,
    "start_time": "2024-12-28T16:42:31.319Z"
   },
   {
    "duration": 14,
    "start_time": "2024-12-28T16:42:31.324Z"
   },
   {
    "duration": 113,
    "start_time": "2024-12-28T16:42:31.340Z"
   },
   {
    "duration": 86850,
    "start_time": "2024-12-28T16:42:31.455Z"
   },
   {
    "duration": 293,
    "start_time": "2024-12-28T16:43:58.307Z"
   },
   {
    "duration": 45,
    "start_time": "2024-12-28T16:43:58.603Z"
   },
   {
    "duration": 13,
    "start_time": "2024-12-28T16:43:58.650Z"
   },
   {
    "duration": 24,
    "start_time": "2024-12-28T16:43:58.664Z"
   },
   {
    "duration": 26,
    "start_time": "2024-12-28T16:43:58.690Z"
   },
   {
    "duration": 14,
    "start_time": "2024-12-28T16:43:58.718Z"
   },
   {
    "duration": 4,
    "start_time": "2024-12-28T16:43:58.734Z"
   },
   {
    "duration": 3,
    "start_time": "2024-12-28T16:43:58.740Z"
   },
   {
    "duration": 3,
    "start_time": "2024-12-28T16:43:58.745Z"
   },
   {
    "duration": 4,
    "start_time": "2024-12-28T16:43:58.750Z"
   },
   {
    "duration": 8,
    "start_time": "2024-12-28T16:43:58.756Z"
   },
   {
    "duration": 1644,
    "start_time": "2024-12-28T16:43:58.765Z"
   },
   {
    "duration": 26035,
    "start_time": "2024-12-28T16:44:00.412Z"
   },
   {
    "duration": 55821,
    "start_time": "2024-12-28T16:44:26.449Z"
   },
   {
    "duration": 258,
    "start_time": "2024-12-28T17:50:03.356Z"
   },
   {
    "duration": 15,
    "start_time": "2024-12-28T17:52:28.426Z"
   },
   {
    "duration": 15,
    "start_time": "2024-12-28T17:53:05.898Z"
   },
   {
    "duration": 4,
    "start_time": "2024-12-28T18:00:44.637Z"
   }
  ],
  "kernelspec": {
   "display_name": "Python 3 (ipykernel)",
   "language": "python",
   "name": "python3"
  },
  "language_info": {
   "codemirror_mode": {
    "name": "ipython",
    "version": 3
   },
   "file_extension": ".py",
   "mimetype": "text/x-python",
   "name": "python",
   "nbconvert_exporter": "python",
   "pygments_lexer": "ipython3",
   "version": "3.9.19"
  },
  "toc": {
   "base_numbering": 1,
   "nav_menu": {},
   "number_sections": true,
   "sideBar": true,
   "skip_h1_title": true,
   "title_cell": "Table of Contents",
   "title_sidebar": "Contents",
   "toc_cell": false,
   "toc_position": {},
   "toc_section_display": true,
   "toc_window_display": false
  }
 },
 "nbformat": 4,
 "nbformat_minor": 2
}
